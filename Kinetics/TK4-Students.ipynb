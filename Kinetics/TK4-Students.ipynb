{
 "cells": [
  {
   "cell_type": "markdown",
   "metadata": {},
   "source": [
    "# Transient Absorption TK4\n",
    "Import libraries"
   ]
  },
  {
   "cell_type": "code",
   "execution_count": null,
   "metadata": {},
   "outputs": [],
   "source": [
    "import numpy as np\n",
    "import pandas as pd\n",
    "import scipy.optimize as opt\n",
    "from scipy import stats\n",
    "\n",
    "import matplotlib.pyplot as plt\n",
    "plt.style.use('seaborn-whitegrid')\n",
    "%matplotlib notebook"
   ]
  },
  {
   "cell_type": "markdown",
   "metadata": {},
   "source": [
    "## Import data\n",
    "First import and plot the ascorbic acid, water and methylene blue files:"
   ]
  },
  {
   "cell_type": "code",
   "execution_count": null,
   "metadata": {},
   "outputs": [],
   "source": [
    "ascorbic2 = pd.read_csv('Files/GROUP A PM Ascorbic SPECTRUM.txt', \n",
    "                             delimiter='\\t', \n",
    "                        skiprows=17,\n",
    "                        skipfooter=1,\n",
    "                             names=['wavelength', 'absorbance'])"
   ]
  },
  {
   "cell_type": "code",
   "execution_count": null,
   "metadata": {},
   "outputs": [],
   "source": [
    "water = pd.read_csv('Files/GROUP A PM WATER BLANK .txt', \n",
    "                             delimiter='\\t', \n",
    "                        skiprows=17,\n",
    "                        skipfooter=1,\n",
    "                             names=['wavelength', 'absorbance'])"
   ]
  },
  {
   "cell_type": "code",
   "execution_count": null,
   "metadata": {},
   "outputs": [],
   "source": [
    "methylblue = pd.read_csv('Files/Methyl blue.txt', \n",
    "                             delimiter='\\t', \n",
    "                        skiprows=17,\n",
    "                        skipfooter=1,\n",
    "                             names=['wavelength', 'absorbance'])"
   ]
  },
  {
   "cell_type": "code",
   "execution_count": null,
   "metadata": {},
   "outputs": [],
   "source": [
    "fig = plt.figure()\n",
    "\n",
    "plt.plot(water['wavelength'], water['absorbance'], label='water')\n",
    "plt.plot(ascorbic2['wavelength'], ascorbic2['absorbance'], label='ascorbic acid')\n",
    "plt.plot(methylblue['wavelength'], methylblue['absorbance'], label='methylene blue')\n",
    "plt.legend()\n",
    "plt.show()"
   ]
  },
  {
   "cell_type": "markdown",
   "metadata": {},
   "source": [
    "*In what regions do ascorbic acid and methylene blue absorb? What wavelength should be monitored for the kinetics?*\n",
    "\n",
    "---\n",
    "## Import decay curves\n",
    "\n",
    "Import the decay curves (done in triplicate) and check the file metadata. Over what wavelength range was the absorption measured?"
   ]
  },
  {
   "cell_type": "code",
   "execution_count": null,
   "metadata": {},
   "outputs": [],
   "source": [
    "allfiles = !ls Files/GroupA* # Find all files in the current directory (folder) beginning with GroupA\n",
    "allfiles"
   ]
  },
  {
   "cell_type": "code",
   "execution_count": null,
   "metadata": {},
   "outputs": [],
   "source": [
    "def import_file(i):\n",
    "    a = pd.read_csv(allfiles[i],  \n",
    "                    skiprows=5,  \n",
    "                    sep='\\t', \n",
    "                    usecols=[1,2],\n",
    "                    names=['time', 'absorbance'])\n",
    "    return a"
   ]
  },
  {
   "cell_type": "code",
   "execution_count": null,
   "metadata": {},
   "outputs": [],
   "source": [
    "A1 = import_file(0)\n",
    "A2 = import_file(1)\n",
    "A3 = import_file(2)\n",
    "B1 = import_file(3)\n",
    "B2 = import_file(4)\n",
    "B3 = import_file(5)\n",
    "C1 = import_file(6)\n",
    "C2 = import_file(7)\n",
    "C3 = import_file(8)\n",
    "D1 = import_file(9)\n",
    "D2 = import_file(10)\n",
    "D3 = import_file(11)\n",
    "E1 = import_file(12)\n",
    "E2 = import_file(13)\n",
    "E3 = import_file(14)"
   ]
  },
  {
   "cell_type": "code",
   "execution_count": null,
   "metadata": {},
   "outputs": [],
   "source": [
    "A1"
   ]
  },
  {
   "cell_type": "markdown",
   "metadata": {},
   "source": [
    "Plot the first three decay curves (the A sample in triplicate). Then repeat (copy and paste the cell below) for the remaining samples B-E. Label them appropriately."
   ]
  },
  {
   "cell_type": "code",
   "execution_count": null,
   "metadata": {
    "scrolled": false
   },
   "outputs": [],
   "source": [
    "fig = plt.figure()\n",
    "plt.plot(x, y, label='A1') # replace x and y\n",
    "plt.plot(x, y, label='A2') # replace x and y\n",
    "plt.plot(x, y, label='A3') # replace x and y\n",
    "\n",
    "plt.xlabel('Elapsed time /s')\n",
    "plt.ylabel('Absorbance')\n",
    "plt.legend()\n",
    "plt.show()"
   ]
  },
  {
   "cell_type": "markdown",
   "metadata": {},
   "source": [
    "---\n",
    "# Data cleanup\n",
    "Each time series file contains a recording of absorbance next to a time stamp. These should be cleaned up before analysing further. For each decay curve:\n",
    "1. Determine the time at [maximum](https://pandas.pydata.org/pandas-docs/stable/reference/api/pandas.DataFrame.max.html) absorbance (*t*) and what position (index) in the data it is (*i*). This needs to be determined automatically for each file, so you cannot explicitly give these values. \n",
    "2. Delete the data before the time range in which the absorbance decay is smooth. This is done by resetting the index of the pandas dataframe. *(Look up [reset_index](https://pandas.pydata.org/pandas-docs/stable/reference/api/pandas.DataFrame.reset_index.html) and the `drop` keyword)*\n",
    "3. Subtract the time value of the first data point from all of the time-data so that the decay starts at *t* = 0. Check this is working correctly before applying to all the files.\n"
   ]
  },
  {
   "cell_type": "code",
   "execution_count": null,
   "metadata": {},
   "outputs": [],
   "source": [
    "def reset_t(f):\n",
    "    \n",
    "    t =          # time at maximum absorbance\n",
    "    i =          # position of maximum absorbance\n",
    "    \n",
    "    ### create new data starting from top of decay curve (removing unwanted initial data)\n",
    "    reset_f = f[i:].copy() # makes a copy of the data rather than overwriting\n",
    "    reset_f =              # reset dataframe index \n",
    "    reset_f.time = reset_f.time            # subtract time value to start decay at t=0\n",
    "    \n",
    "    return reset_f"
   ]
  },
  {
   "cell_type": "code",
   "execution_count": null,
   "metadata": {},
   "outputs": [],
   "source": [
    "### Cleanup data\n",
    "a1 = reset_t(A1)\n",
    "a2 = reset_t(A2)\n",
    "a3 = reset_t(A3)\n",
    "Aseries = [a1, a2, a3]"
   ]
  },
  {
   "cell_type": "markdown",
   "metadata": {},
   "source": [
    "Plot the A series - do they all start from *t* = 0? Repeat for the other series. You can verify by plotting each."
   ]
  },
  {
   "cell_type": "code",
   "execution_count": null,
   "metadata": {},
   "outputs": [],
   "source": [
    "def plot_f(f):\n",
    "    fig = plt.figure()\n",
    "    plt.plot(f[0]['time'], f[0]['absorbance'], label='1')\n",
    "    plt.plot(f[1]['time'], f[1]['absorbance'], label='2')\n",
    "    plt.plot(f[2]['time'], f[2]['absorbance'], label='3')\n",
    "\n",
    "    plt.xlabel('Elapsed time /s')\n",
    "    plt.ylabel('Absorbance')\n",
    "    plt.legend()\n",
    "    plt.show()"
   ]
  },
  {
   "cell_type": "code",
   "execution_count": null,
   "metadata": {},
   "outputs": [],
   "source": [
    "plot_f(Aseries)"
   ]
  },
  {
   "cell_type": "code",
   "execution_count": null,
   "metadata": {},
   "outputs": [],
   "source": [
    "b1 = reset_t(B1)\n",
    "b2 = reset_t(B2)\n",
    "b3 = reset_t(B3)\n",
    "Bseries = [b1, b2, b3]"
   ]
  },
  {
   "cell_type": "code",
   "execution_count": null,
   "metadata": {},
   "outputs": [],
   "source": [
    "c1 = reset_t(C1)\n",
    "c2 = reset_t(C2)\n",
    "c3 = reset_t(C3)\n",
    "Cseries = [c1, c2, c3]"
   ]
  },
  {
   "cell_type": "code",
   "execution_count": null,
   "metadata": {},
   "outputs": [],
   "source": [
    "d1 = reset_t(D1)\n",
    "d2 = reset_t(D2)\n",
    "d3 = reset_t(D3)\n",
    "Dseries = [d1, d2, d3]"
   ]
  },
  {
   "cell_type": "code",
   "execution_count": null,
   "metadata": {},
   "outputs": [],
   "source": [
    "e1 = reset_t(E1)\n",
    "e2 = reset_t(E2)\n",
    "e3 = reset_t(E3)\n",
    "Eseries = [e1, e2, e3]"
   ]
  },
  {
   "cell_type": "markdown",
   "metadata": {},
   "source": [
    "### Pseudo first-order fit\n",
    "\n",
    "Model the data using the pseudo first-order equation $ A = A_0 e^{-kt} + B $, where $B$ is an offset which accounts for the absorbance not reaching zero, or dipping below zero. Plot your decay curves and the fitted models as $(A–B) / A_0$ vs time. Plot each series on its own graph."
   ]
  },
  {
   "cell_type": "code",
   "execution_count": null,
   "metadata": {},
   "outputs": [],
   "source": [
    "### COMPLETE:\n",
    "def first_order(t, A0, b, k):\n",
    "     return "
   ]
  },
  {
   "cell_type": "code",
   "execution_count": null,
   "metadata": {},
   "outputs": [],
   "source": [
    "def normalise(f, optP):\n",
    "    \"\"\"Remove B and divide by A0\"\"\"\n",
    "    \n",
    "    A0 = optP[0]\n",
    "    b = optP[1]\n",
    "    \n",
    "    return (first_order(f['time'], *optP)-b)/A0"
   ]
  },
  {
   "cell_type": "code",
   "execution_count": null,
   "metadata": {},
   "outputs": [],
   "source": [
    "### For each series:\n",
    "A = []  # we are creating empty list for rate constants to be added to later\n",
    "B = []\n",
    "C = []\n",
    "D = []\n",
    "E = []"
   ]
  },
  {
   "cell_type": "code",
   "execution_count": null,
   "metadata": {},
   "outputs": [],
   "source": [
    "def append_k(f, k):\n",
    "    \"\"\"Append the rate constant to its appropriate list\"\"\"\n",
    "    \n",
    "    if str(f) in str(Aseries):\n",
    "        A.append(k)\n",
    "    \n",
    "    elif str(f) in str(Bseries):\n",
    "        B.append(k)\n",
    "\n",
    "    elif str(f) in str(Cseries):\n",
    "        C.append(k)\n",
    "\n",
    "    elif str(f) in str(Dseries):\n",
    "        D.append(k)\n",
    "\n",
    "    elif str(f) in str(Eseries):\n",
    "        E.append(k)\n",
    "        \n",
    "    else:\n",
    "        print(\"File doesn't match?\")"
   ]
  },
  {
   "cell_type": "code",
   "execution_count": null,
   "metadata": {},
   "outputs": [],
   "source": [
    "def plot_fits(f_list):\n",
    "\n",
    "    colours = ['navy', 'b', 'g', 'lime', 'orange', 'r']\n",
    "    fig = plt.figure()\n",
    "    plt.xlabel('Time /s')\n",
    "    plt.ylabel('(A-B)/A0')\n",
    "\n",
    "    counter=1\n",
    "    j=0\n",
    "    \n",
    "    for f in f_list:\n",
    "        ### Do the pseudo first order fit for each file:\n",
    "        optP, pcov = opt.curve_fit(first_order, f['time'], f['absorbance'])\n",
    "        A0 = optP[0]\n",
    "        b = optP[1]\n",
    "        k = optP[2]\n",
    "\n",
    "        ### Append k to the appropriate list that was empty before\n",
    "        append_k(f,k)\n",
    "        \n",
    "        print('A0 =', A0,'+/-',2*pcov[0][0]**0.5)\n",
    "        print('b =', b,'+/-',2*pcov[1][1]**0.5)\n",
    "        print('k =', k,'+/-',2*pcov[2][2]**0.5,'s-1')\n",
    "        print('------------------------------------')\n",
    "        \n",
    "        ### Plotting data and fit\n",
    "        plt.plot(f['time'], f['absorbance'], '.', c=colours[j], label=('exp '+str(counter)))\n",
    "#        plt.plot(f['time'], fit(f['time'], *optP), \"-\", c=colours[j+1], label=('fit '+str(counter)))\n",
    "        plt.plot(f['time'], normalise(f, optP), \"-\", c=colours[j+1], label=('normalised fit '+str(counter)))\n",
    "\n",
    "        ### Plot ln(fit) vs t\n",
    "#        plt.plot(f['time'], np.log(normalise(f)), \"-\", c=colours[j+1], label=(str(counter)))\n",
    "#        plt.ylabel('ln((A-B)/A0)')\n",
    "\n",
    "        counter += 1\n",
    "        j+= 2\n",
    "        \n",
    "    plt.legend()\n",
    "    plt.show()"
   ]
  },
  {
   "cell_type": "code",
   "execution_count": null,
   "metadata": {},
   "outputs": [],
   "source": [
    "plot_fits(Aseries)"
   ]
  },
  {
   "cell_type": "code",
   "execution_count": null,
   "metadata": {},
   "outputs": [],
   "source": [
    "plot_fits(Bseries)"
   ]
  },
  {
   "cell_type": "code",
   "execution_count": null,
   "metadata": {},
   "outputs": [],
   "source": [
    "plot_fits(Cseries)"
   ]
  },
  {
   "cell_type": "code",
   "execution_count": null,
   "metadata": {},
   "outputs": [],
   "source": [
    "plot_fits(Dseries)"
   ]
  },
  {
   "cell_type": "code",
   "execution_count": null,
   "metadata": {},
   "outputs": [],
   "source": [
    "plot_fits(Eseries)"
   ]
  },
  {
   "cell_type": "markdown",
   "metadata": {},
   "source": [
    "Plot the natural logarithm of $(A – B)/A_0$ vs time for each decay curve. (This code can be activated in the `plot_fits` function above.) Is it a straight line?\n",
    "\n",
    "---\n",
    "\n",
    "### Determine $k_2$\n",
    "Using the rate constants for each reaction make a plot of $k$ as a function of [ascorbic acid]. Determine the second order rate coefficient, $k_2$, as the slope of this plot. What are the units of this $k$?"
   ]
  },
  {
   "cell_type": "code",
   "execution_count": null,
   "metadata": {},
   "outputs": [],
   "source": [
    "### Tabulate data\n",
    "all_data = pd.DataFrame([A, B, C, D, E])\n",
    "all_data.columns = ['1', '2', '3']\n",
    "all_data[\"[ascorbic acid]\"] = [0.01, 0.02, 0.03, 0.04, 0.05]\n",
    "all_data = all_data[[\"[ascorbic acid]\", '1', '2', '3']]\n",
    "all_data"
   ]
  },
  {
   "cell_type": "code",
   "execution_count": null,
   "metadata": {},
   "outputs": [],
   "source": [
    "### Plot rate constants vs [ascorbic acid]\n",
    "ax = all_data.plot.scatter(x='[ascorbic acid]', y='1', label='1')\n",
    "all_data.plot.scatter(x='[ascorbic acid]', y='2', label='2', c='orange', ax=ax);\n",
    "all_data.plot.scatter(x='[ascorbic acid]', y='3', label='3', c='r', ax=ax);\n",
    "plt.ylabel('k');"
   ]
  },
  {
   "cell_type": "code",
   "execution_count": null,
   "metadata": {},
   "outputs": [],
   "source": [
    "def line(x, m, b):\n",
    "     return m*x + b"
   ]
  },
  {
   "cell_type": "code",
   "execution_count": null,
   "metadata": {},
   "outputs": [],
   "source": [
    "### Calculate average k from triplicate data\n",
    "k2 = all_data[['1', '2', '3']]\n",
    "k2.mean(axis=1)"
   ]
  },
  {
   "cell_type": "code",
   "execution_count": null,
   "metadata": {},
   "outputs": [],
   "source": [
    "x = all_data[\"[ascorbic acid]\"]\n",
    "optP, pcov = opt.curve_fit(line, x, k2.mean(axis=1))\n",
    "\n",
    "print('slope is',optP[0],'+/-',2*pcov[0][0]**0.5)"
   ]
  }
 ],
 "metadata": {
  "kernelspec": {
   "display_name": "Python 3",
   "language": "python",
   "name": "python3"
  },
  "language_info": {
   "codemirror_mode": {
    "name": "ipython",
    "version": 3
   },
   "file_extension": ".py",
   "mimetype": "text/x-python",
   "name": "python",
   "nbconvert_exporter": "python",
   "pygments_lexer": "ipython3",
   "version": "3.7.6"
  }
 },
 "nbformat": 4,
 "nbformat_minor": 4
}
