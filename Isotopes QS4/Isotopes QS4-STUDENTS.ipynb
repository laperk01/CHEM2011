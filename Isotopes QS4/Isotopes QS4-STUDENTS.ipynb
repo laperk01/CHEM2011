{
 "cells": [
  {
   "cell_type": "markdown",
   "metadata": {},
   "source": [
    "# Infrared Group Frequencies QS4"
   ]
  },
  {
   "cell_type": "markdown",
   "metadata": {},
   "source": [
    "## Experimental data\n",
    "Start with importing the pandas, matplotlib and numpy libraries:"
   ]
  },
  {
   "cell_type": "code",
   "execution_count": null,
   "metadata": {},
   "outputs": [],
   "source": [
    "import pandas as pd\n",
    "import matplotlib.pyplot as plt\n",
    "import numpy as np\n",
    "%matplotlib inline\n",
    "plt.style.use('seaborn-whitegrid')"
   ]
  },
  {
   "cell_type": "markdown",
   "metadata": {},
   "source": [
    "**Download and import the data files** using pandas [read_csv](https://pandas.pydata.org/pandas-docs/stable/user_guide/io.html#csv-text-files):"
   ]
  },
  {
   "cell_type": "code",
   "execution_count": null,
   "metadata": {},
   "outputs": [],
   "source": [
    "exp1 = pd.read_csv(\"CH3OH.csv\")\n",
    "exp2 = pd.read_csv(\"CH3OD.csv\")\n",
    "exp3 = pd.read_csv(\"CD3OD.csv\")"
   ]
  },
  {
   "cell_type": "code",
   "execution_count": null,
   "metadata": {},
   "outputs": [],
   "source": [
    "exp1"
   ]
  },
  {
   "cell_type": "markdown",
   "metadata": {},
   "source": [
    "You can explore the data in tabular form using `head()` to see the first few rows of data (or `tail()` for the last rows):"
   ]
  },
  {
   "cell_type": "code",
   "execution_count": null,
   "metadata": {},
   "outputs": [],
   "source": [
    "exp2.tail(10) #The number in the brackets says how many rows to show"
   ]
  },
  {
   "cell_type": "markdown",
   "metadata": {},
   "source": [
    "A strange convention in infrared spectroscopy is to plot the spectra backwards. Plot your three experimental spectra:"
   ]
  },
  {
   "cell_type": "code",
   "execution_count": null,
   "metadata": {},
   "outputs": [],
   "source": [
    "x1 = exp1['wav']\n",
    "y1 = exp1['int']\n",
    "\n",
    "x2 = exp2['wav']\n",
    "y2 = exp2['int']\n",
    "\n",
    "x3 = exp3['wav']\n",
    "y3 = exp3['int']\n",
    "\n",
    "plt.figure(figsize=[20,5])\n",
    "plt.plot(x1,y1,\"b-\",label=\"CH3OH\")\n",
    "plt.plot(x2,y2,\"r-\",label=\"CH3OD\")\n",
    "plt.plot(x3,y3,\"g-\",label=\"CD3OD\")\n",
    "\n",
    "plt.xlabel('wavenumber (cm-1)')\n",
    "plt.xlim(4000,700)\n",
    "plt.ylabel('absorbance')\n",
    "plt.legend()\n",
    "plt.show()"
   ]
  },
  {
   "cell_type": "markdown",
   "metadata": {},
   "source": [
    "In general, the highest frequency vibrations are stretches, followed by bends, followed by torsions.\n",
    "\n",
    "## Computational exercise\n",
    "To assign the rest of the spectra in detail you will perform quantum chemical calculations using [WebMO](https://www.webmo.net/demoserver/cgi-bin/webmo/login.cgi).\n",
    "\n",
    "Once your job has completed, copy the output code below and run it, entering the password \"guest\":"
   ]
  },
  {
   "cell_type": "code",
   "execution_count": null,
   "metadata": {
    "scrolled": true
   },
   "outputs": [],
   "source": [
    "#Paste code here:\n"
   ]
  },
  {
   "cell_type": "markdown",
   "metadata": {},
   "source": [
    "The output we are interested in (in `properties`) can then be made into a table using pandas:"
   ]
  },
  {
   "cell_type": "code",
   "execution_count": null,
   "metadata": {},
   "outputs": [],
   "source": [
    "methanol = pd.DataFrame()\n",
    "methanol[\"Wavenumber (cm$^{-1}$)\"] = properties[\"vibrations\"][\"frequencies\"]\n",
    "methanol[\"Intensity (km/mol)\"] = properties[\"vibrations\"][\"intensities\"][\"IR\"]\n",
    "methanol"
   ]
  },
  {
   "cell_type": "markdown",
   "metadata": {},
   "source": [
    "Add a description column to this table:"
   ]
  },
  {
   "cell_type": "code",
   "execution_count": null,
   "metadata": {},
   "outputs": [],
   "source": [
    "description = pd.Series(dtype=str, index=range(0,12)) #Creates a pandas Series (column) of the right length\n",
    "description[0] = \"C-O torsion\"                        #Add first description"
   ]
  },
  {
   "cell_type": "markdown",
   "metadata": {},
   "source": [
    "Add your descriptions by writing into the box when prompted below. Rerun for a new row (updating the row number appropriately):"
   ]
  },
  {
   "cell_type": "code",
   "execution_count": null,
   "metadata": {},
   "outputs": [],
   "source": [
    "description[1] = input(\"Description: \") #Change the position in description for new row\n",
    "#Hit Enter when ready"
   ]
  },
  {
   "cell_type": "code",
   "execution_count": null,
   "metadata": {},
   "outputs": [],
   "source": [
    "description\n",
    "#Show the list so far:"
   ]
  },
  {
   "cell_type": "markdown",
   "metadata": {},
   "source": [
    "When the column is ready add it to the table:"
   ]
  },
  {
   "cell_type": "code",
   "execution_count": null,
   "metadata": {},
   "outputs": [],
   "source": [
    "methanol[\"Description\"] = description\n",
    "methanol.style.set_caption(\"Table 1. Tables Have Titles That Go Here\")"
   ]
  },
  {
   "cell_type": "markdown",
   "metadata": {},
   "source": [
    "Take a screenshot of the completed table to submit to Moodle."
   ]
  },
  {
   "cell_type": "markdown",
   "metadata": {},
   "source": [
    "### Calculated spectrum\n",
    "Import the .jdx spectrum:"
   ]
  },
  {
   "cell_type": "code",
   "execution_count": null,
   "metadata": {},
   "outputs": [],
   "source": [
    "calc1 = pd.read_csv(\"spectrum1.jdx\", \n",
    "                        delimiter=' ',\n",
    "                        names=['wav', 'int'],    #name the columns\n",
    "                        skiprows=17,      #ignore metadata at top of file\n",
    "                        skipfooter=1,     #ignore the last line of data\n",
    "                        engine='python')  #for skipfooter"
   ]
  },
  {
   "cell_type": "code",
   "execution_count": null,
   "metadata": {},
   "outputs": [],
   "source": [
    "calc1"
   ]
  },
  {
   "cell_type": "markdown",
   "metadata": {},
   "source": [
    "What is the experimental *OD str* to *OH str* frequency ratio?"
   ]
  },
  {
   "cell_type": "code",
   "execution_count": null,
   "metadata": {},
   "outputs": [],
   "source": [
    "ratio = \n",
    "print(ratio)"
   ]
  },
  {
   "cell_type": "markdown",
   "metadata": {},
   "source": [
    "Import the other calculated spectra from WebMO for CH$_3$OD and CD$_3$OD:"
   ]
  },
  {
   "cell_type": "code",
   "execution_count": null,
   "metadata": {},
   "outputs": [],
   "source": [
    "calc2 = pd.read_csv(\"spectrum2.jdx\", \n",
    "                        delimiter=' ',\n",
    "                        names=['wav', 'int'],    #name the columns\n",
    "                        skiprows=17,      #ignore metadata at top of file\n",
    "                        skipfooter=1,     #ignore the last line of data\n",
    "                        engine='python')  #for skipfooter\n",
    "\n",
    "calc3 = pd.read_csv(\"spectrum3.jdx\", \n",
    "                        delimiter=' ',\n",
    "                        names=['wav', 'int'],    #name the columns\n",
    "                        skiprows=17,      #ignore metadata at top of file\n",
    "                        skipfooter=1,     #ignore the last line of data\n",
    "                        engine='python')  #for skipfooter"
   ]
  },
  {
   "cell_type": "code",
   "execution_count": null,
   "metadata": {},
   "outputs": [],
   "source": [
    "x4 = calc1['wav']\n",
    "y4 = calc1['int']\n",
    "\n",
    "x5 = calc2['wav']\n",
    "y5 = calc2['int']\n",
    "\n",
    "x6 = calc3['wav']\n",
    "y6 = calc3['int']"
   ]
  },
  {
   "cell_type": "markdown",
   "metadata": {},
   "source": [
    "## Results\n",
    "Plot the theoretical spectrum and compare it to the experimental spectrum. Since they have different ranges for the y-axis, we can perform a scaling on the theoretical spectrum within the plotting code (isn’t that great?). You will notice that the calculated bands are much narrower and to higher energy than the experimental bands.\n",
    "\n",
    "---\n",
    "### $CH_3OH$\n",
    "First plot is good to show overall spectrum and get scaling correct:"
   ]
  },
  {
   "cell_type": "code",
   "execution_count": null,
   "metadata": {},
   "outputs": [],
   "source": [
    "plt.figure(figsize=[20,5])\n",
    "\n",
    "plt.plot(0.9*x4,y4/200,\"g-\",label=\"CH3OH-calc\") #change the x4 scaling factor here\n",
    "plt.plot(x1,y1,\"b-\",label=\"CH3OH\")\n",
    "\n",
    "plt.xlabel('wavenumber (cm-1)')\n",
    "plt.xlim(4000,700)\n",
    "plt.ylim(0,2.5)\n",
    "plt.ylabel('intensity (arb.)')\n",
    "plt.legend()\n",
    "plt.show()"
   ]
  },
  {
   "cell_type": "markdown",
   "metadata": {},
   "source": [
    "Next we can pick the peaks over a certain wavelength range:"
   ]
  },
  {
   "cell_type": "code",
   "execution_count": null,
   "metadata": {
    "scrolled": false
   },
   "outputs": [],
   "source": [
    "import scipy.signal as sig\n",
    "\n",
    "# Modify threshold, distance, width and height to change the peak picking criteria:\n",
    "peaks = sig.find_peaks(y1, threshold=None, distance=40, width=None, height=0.2) \n",
    "\n",
    "# Choose range depending on which band you are assigning\n",
    "xmin = 1900 \n",
    "xmax = 2200\n",
    "\n",
    "plt.figure(figsize=[20,5])\n",
    "plt.plot(x1[peaks[0]],y1[peaks[0]],\"ro\")\n",
    "plt.plot(x1,y1)\n",
    "plt.xlabel('wavenumber (cm-1)')\n",
    "plt.xlim(xmax,xmin)\n",
    "plt.ylim(0,0.2)\n",
    "plt.ylabel('intensity (normalised)')\n",
    "\n",
    "for i in range(len(peaks[0])):\n",
    "    if x1[peaks[0][i]] > xmin and x1[peaks[0][i]] < xmax:\n",
    "        stri = '%s' % float('%.5g' % x1[peaks[0][i]])\n",
    "        plt.text(x1[peaks[0][i]],y1[peaks[0][i]]+0.1,stri,rotation=90)\n",
    "\n",
    "plt.show()"
   ]
  },
  {
   "cell_type": "markdown",
   "metadata": {},
   "source": [
    "### Methanol group frequencies:\n",
    "Assign the vibrational frequencies for the methanol spectrum by creating a table below. Five bands are expected but only four regions of strong to medium absorption are easily recognised. A careful comparison of the CH$_3$OH and CH$_3$OD spectra shows that the absorption of CH$_3$OH in the 1300 – 1500 cm$^{–1}$ region consist of two overlapping bands, each of irregular shape.  Read off the centre frequency of all bands of well-defined shape and of the sharp features in the 1300 – 1500 cm$^{–1}$ region and list them in order of decreasing frequency. "
   ]
  },
  {
   "cell_type": "code",
   "execution_count": null,
   "metadata": {},
   "outputs": [],
   "source": [
    "frequencies = [1, 2, 3, 4, 5, 6] \n",
    "descriptions = ['a', 'b', 'c', 'd', 'e', 'f']\n",
    "ch3oh_table = pd.DataFrame()\n",
    "ch3oh_table['Frequency /cm-1'] = frequencies\n",
    "ch3oh_table[\"Description\"] = descriptions\n",
    "ch3oh_table\n",
    "#ch3oh_table.style.set_caption(\"TITLE\")"
   ]
  },
  {
   "cell_type": "markdown",
   "metadata": {},
   "source": [
    "Based on the O-H to O-D ratio you worked out before, what is the predicted wavelength for the O-D stretch?"
   ]
  },
  {
   "cell_type": "code",
   "execution_count": null,
   "metadata": {},
   "outputs": [],
   "source": []
  },
  {
   "cell_type": "markdown",
   "metadata": {},
   "source": [
    "Repeat these steps for the deuterated derivatives below and assign their vibrational frequencies.\n",
    "\n",
    "### $CH_3OD$\n",
    "On replacing the O–H group with O–D we expect the O–H stretch band and the C–O–H bend band to shift to lower frequencies by a factor of ~1.4, while all other bands remain virtually unshifted. Carefully compare the CH$_3$OH and CH$_3$OD spectra and identify the two bands of the CH$_3$OH spectrum which do not appear (or appear only weakly – the CH$_3$OD sample may not be pure) in the CH$_3$OD spectrum.  These two bands must be *OH str* and *COH bend*. Furthermore, given that stretching vibrations occur at higher frequencies than bending vibrations, i.e. *OH str > COH bend*, it is now possible to assign these for CH$_3$OH. The CH$_3$OD spectrum must similarly have two bands which do not appear in the CH$_3$OH spectrum; these must be *OD str* and *COD bend* for the CH$_3$OD molecule. Measure all the absorption bands and list them in order of decreasing frequency:"
   ]
  },
  {
   "cell_type": "code",
   "execution_count": null,
   "metadata": {},
   "outputs": [],
   "source": [
    "plt.figure(figsize=[20,5])\n",
    "\n",
    "plt.plot(0.9*x5,y5/200,\"g-\",label=\"CH3OD-calc\") \n",
    "plt.plot(x2,y2,\"b-\",label=\"CH3OD\")\n",
    "\n",
    "plt.xlabel('wavenumber (cm-1)')\n",
    "plt.xlim(4000,700)\n",
    "plt.ylim(0,2)\n",
    "plt.ylabel('intensity (arb.)')\n",
    "plt.legend()\n",
    "plt.show()"
   ]
  },
  {
   "cell_type": "code",
   "execution_count": null,
   "metadata": {
    "scrolled": false
   },
   "outputs": [],
   "source": [
    "import scipy.signal as sig\n",
    "\n",
    "peaks = sig.find_peaks(y2, threshold=None, distance=40, width=None, height=0.15)\n",
    "\n",
    "xmin = 1900\n",
    "xmax = 2200\n",
    "\n",
    "plt.figure(figsize=[20,10])\n",
    "plt.plot(x2[peaks[0]],y2[peaks[0]],\"ro\")\n",
    "plt.plot(x2,y2)\n",
    "plt.xlabel('wavenumber (cm-1)')\n",
    "plt.xlim(xmax,xmin)\n",
    "plt.ylim(0,0.2) \n",
    "plt.ylabel('intensity (normalised)')\n",
    "\n",
    "for i in range(len(peaks[0])):\n",
    "    if x2[peaks[0][i]] > xmin and x2[peaks[0][i]] < xmax:\n",
    "        stri = '%s' % float('%.5g' % x2[peaks[0][i]])\n",
    "        plt.text(x2[peaks[0][i]],y2[peaks[0][i]]+0.1,stri,rotation=90)\n",
    "\n",
    "plt.show()"
   ]
  },
  {
   "cell_type": "code",
   "execution_count": null,
   "metadata": {},
   "outputs": [],
   "source": [
    "frequencies2 = [1, 2, 3, 4, 5, 6] \n",
    "descriptions2 = ['a', 'b', 'c', 'd', 'e', 'f']\n",
    "ch3od_table = pd.DataFrame()\n",
    "ch3od_table['Frequency /cm-1'] = frequencies2\n",
    "ch3od_table[\"Description\"] = descriptions2\n",
    "ch3od_table\n",
    "#ch3od_table.style.set_caption(\"TITLE\")"
   ]
  },
  {
   "cell_type": "markdown",
   "metadata": {},
   "source": [
    "### $CD_3OD$\n",
    "Arguments similar to those above show that a comparison of the CH$_3$OD and CD$_3$OD spectra should enable an identification of the C–H stretch and H–C–H bend bands. The CD$_3$OD sample is difficult to obtain with 100% purity and the following peaks in the spectrum should be ignored:\n",
    "- 3700 cm$^{–1}$ (weak) and 1280 cm$^{–1}$ (medium), due to CD$_3$OH;\n",
    "- 1070 cm$^{–1}$ (medium) and 1050 cm$^{–1}$ (medium), due to CD$_2$HOD;\n",
    "- 1020 cm$^{–1}$ (medium), due to CD$_2$HOD.\n",
    "\n",
    "Before you start assigning peaks in the CD$_3$OD spectrum, mark the above peaks so you can ignore them in your subsequent analysis. \n",
    "\n",
    "List the frequencies of the remaining bands and use deuterium frequency shifts to identify *CH str* and *HCH bend*.  The assignment of these can be checked by going back to the CH$_3$OH spectrum:  they should not change (much) in frequency on going from CH$_3$OH to CH$_3$OD.  The remaining band can now be assigned to the *CO str*."
   ]
  },
  {
   "cell_type": "code",
   "execution_count": null,
   "metadata": {},
   "outputs": [],
   "source": [
    "plt.figure(figsize=[20,5])\n",
    "\n",
    "plt.plot(0.9*x6,y6/200,\"g-\",label=\"CD3OD-calc\") \n",
    "plt.plot(x3,y3,\"b-\",label=\"CD3OD\")\n",
    "\n",
    "plt.xlabel('wavenumber (cm-1)')\n",
    "plt.xlim(4000,700)\n",
    "plt.ylim(0,2)\n",
    "plt.ylabel('intensity (arb.)')\n",
    "plt.legend()\n",
    "plt.show()"
   ]
  },
  {
   "cell_type": "code",
   "execution_count": null,
   "metadata": {
    "scrolled": false
   },
   "outputs": [],
   "source": [
    "import scipy.signal as sig\n",
    "\n",
    "peaks = sig.find_peaks(y3, threshold=None, distance=40, width=None, height=0.1)\n",
    "\n",
    "xmin = 1900\n",
    "xmax = 2200\n",
    "\n",
    "plt.figure(figsize=[20,5])\n",
    "plt.plot(x3[peaks[0]],y3[peaks[0]],\"ro\")\n",
    "plt.plot(x3,y3)\n",
    "plt.xlabel('wavenumber (cm-1)')\n",
    "plt.xlim(xmax,xmin)\n",
    "plt.ylim(0,0.2)\n",
    "plt.ylabel('intensity (normalised)')\n",
    "\n",
    "for i in range(len(peaks[0])):\n",
    "    if x3[peaks[0][i]] > xmin and x1[peaks[0][i]] < xmax:\n",
    "        stri = '%s' % float('%.5g' % x3[peaks[0][i]])\n",
    "        plt.text(x3[peaks[0][i]],y3[peaks[0][i]]+0.1,stri,rotation=90)\n",
    "\n",
    "plt.show()"
   ]
  },
  {
   "cell_type": "code",
   "execution_count": null,
   "metadata": {},
   "outputs": [],
   "source": [
    "frequencies3 = [1, 2, 3, 4, 5, 6] \n",
    "descriptions3 = ['a', 'b', 'c', 'd', 'e', 'f']\n",
    "cd3od_table = pd.DataFrame()\n",
    "cd3od_table['Frequency /cm-1'] = frequencies3\n",
    "cd3od_table[\"Description\"] = descriptions3\n",
    "cd3od_table\n",
    "#cd3od_table.style.set_caption(\"TITLE\")"
   ]
  },
  {
   "cell_type": "code",
   "execution_count": null,
   "metadata": {},
   "outputs": [],
   "source": []
  }
 ],
 "metadata": {
  "kernelspec": {
   "display_name": "Python 3",
   "language": "python",
   "name": "python3"
  },
  "language_info": {
   "codemirror_mode": {
    "name": "ipython",
    "version": 3
   },
   "file_extension": ".py",
   "mimetype": "text/x-python",
   "name": "python",
   "nbconvert_exporter": "python",
   "pygments_lexer": "ipython3",
   "version": "3.7.6"
  }
 },
 "nbformat": 4,
 "nbformat_minor": 4
}
