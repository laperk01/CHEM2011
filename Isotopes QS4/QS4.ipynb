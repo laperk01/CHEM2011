{
 "cells": [
  {
   "cell_type": "markdown",
   "metadata": {},
   "source": [
    "# Infrared Group Frequencies QS4"
   ]
  },
  {
   "cell_type": "markdown",
   "metadata": {},
   "source": [
    "## Experimental data\n",
    "Start with importing the pandas, matplotlib and numpy libraries:"
   ]
  },
  {
   "cell_type": "code",
   "execution_count": null,
   "metadata": {},
   "outputs": [],
   "source": [
    "import pandas as pd\n",
    "import matplotlib.pyplot as plt\n",
    "\n",
    "%matplotlib inline\n",
    "plt.style.use('seaborn-whitegrid')"
   ]
  },
  {
   "cell_type": "markdown",
   "metadata": {},
   "source": [
    "**Download and import the data files** using pandas [read_csv](https://pandas.pydata.org/pandas-docs/stable/user_guide/io.html#csv-text-files):"
   ]
  },
  {
   "cell_type": "code",
   "execution_count": null,
   "metadata": {},
   "outputs": [],
   "source": [
    "exp1 = \n",
    "exp2 = \n",
    "exp3 = "
   ]
  },
  {
   "cell_type": "markdown",
   "metadata": {},
   "source": [
    "You can explore the data in tabular form using `head()` to see the first few rows of data (or `tail()` for the last rows):"
   ]
  },
  {
   "cell_type": "code",
   "execution_count": null,
   "metadata": {},
   "outputs": [],
   "source": [
    "exp2.tail(10) #The number in the brackets says how many rows to show"
   ]
  },
  {
   "cell_type": "markdown",
   "metadata": {},
   "source": [
    "A strange convention in infrared spectroscopy is to plot the spectra backwards *(can you see how this is done in the code below?)*. Plot your three experimental spectra:"
   ]
  },
  {
   "cell_type": "code",
   "execution_count": null,
   "metadata": {},
   "outputs": [],
   "source": [
    "x1 = exp1['wav']\n",
    "y1 = exp1['int']\n",
    "\n",
    "x2 = exp2['wav']\n",
    "y2 = exp2['int']\n",
    "\n",
    "x3 = exp3['wav']\n",
    "y3 = exp3['int']\n",
    "\n",
    "plt.figure(figsize=[20,5])\n",
    "plt.plot(x1,y1,\"b-\",label=\"CH$_3$OH\")\n",
    "plt.plot(x2,y2,\"r-\",label=\"CH$_3$OD\")\n",
    "plt.plot(x3,y3,\"g-\",label=\"CD$_3$OD\")\n",
    "\n",
    "plt.xlabel('wavenumber (cm$^{-1}$)', size=16)\n",
    "plt.xlim(4000,700)\n",
    "plt.ylabel('absorbance', size=16)\n",
    "plt.legend()\n",
    "plt.show()"
   ]
  },
  {
   "cell_type": "markdown",
   "metadata": {},
   "source": [
    "In general, the highest frequency vibrations are stretches, followed by bends, followed by torsions.\n",
    "\n",
    "## Computational exercise\n",
    "To assign the rest of the spectra in detail you will perform quantum chemical calculations using [WebMO](https://www.webmo.net/demoserver/cgi-bin/webmo/login.cgi). Follow the QS4 instructions.\n",
    "\n",
    "Once your job has completed, paste the output code below and run it, entering the password \"guest\":"
   ]
  },
  {
   "cell_type": "code",
   "execution_count": null,
   "metadata": {
    "scrolled": true
   },
   "outputs": [],
   "source": [
    "#Paste code here:\n"
   ]
  },
  {
   "cell_type": "markdown",
   "metadata": {},
   "source": [
    "The output we are interested in (in `properties`) can then be made into a table using pandas:"
   ]
  },
  {
   "cell_type": "code",
   "execution_count": null,
   "metadata": {},
   "outputs": [],
   "source": [
    "methanol = pd.DataFrame()\n",
    "methanol[\"Wavenumber (cm$^{-1}$)\"] = properties[\"vibrations\"][\"frequencies\"]\n",
    "methanol[\"Intensity (km/mol)\"] = properties[\"vibrations\"][\"intensities\"][\"IR\"]\n",
    "methanol"
   ]
  },
  {
   "cell_type": "markdown",
   "metadata": {},
   "source": [
    "Add a description column to this table:"
   ]
  },
  {
   "cell_type": "code",
   "execution_count": null,
   "metadata": {},
   "outputs": [],
   "source": [
    "description = pd.Series(dtype=str, index=range(0,12)) #Creates a pandas Series (column) of the right length\n",
    "description[0] = \"C-O torsion\"                        #Add first description"
   ]
  },
  {
   "cell_type": "markdown",
   "metadata": {},
   "source": [
    "Add your descriptions by writing into the box when prompted below. Rerun for a new row (updating the row number appropriately):"
   ]
  },
  {
   "cell_type": "code",
   "execution_count": null,
   "metadata": {},
   "outputs": [],
   "source": [
    "description[1] = input(\"Description: \") #Change the position in description for new row\n",
    "#Hit Enter when ready"
   ]
  },
  {
   "cell_type": "code",
   "execution_count": null,
   "metadata": {},
   "outputs": [],
   "source": [
    "description\n",
    "#Show the list so far:"
   ]
  },
  {
   "cell_type": "markdown",
   "metadata": {},
   "source": [
    "When the column is ready add it to the table:"
   ]
  },
  {
   "cell_type": "code",
   "execution_count": null,
   "metadata": {},
   "outputs": [],
   "source": [
    "methanol[\"Description\"] = description\n",
    "methanol.style.set_caption(\"Table 1. Tables Have Titles That Go Here\") #UPDATE"
   ]
  },
  {
   "cell_type": "markdown",
   "metadata": {},
   "source": [
    "Take a screenshot of the completed table to submit to Moodle."
   ]
  },
  {
   "cell_type": "markdown",
   "metadata": {},
   "source": [
    "### Calculated spectrum\n",
    "Import the .jdx spectrum:"
   ]
  },
  {
   "cell_type": "code",
   "execution_count": null,
   "metadata": {},
   "outputs": [],
   "source": [
    "calc1 = pd.read_csv(\"spectrum1.jdx\", \n",
    "                        delimiter=' ',\n",
    "                        names=['wav', 'int'],    #name the columns\n",
    "                        skiprows=17,      #ignore metadata at top of file\n",
    "                        skipfooter=1,     #ignore the last line of data\n",
    "                        engine='python')  #for skipfooter"
   ]
  },
  {
   "cell_type": "code",
   "execution_count": null,
   "metadata": {},
   "outputs": [],
   "source": [
    "calc1"
   ]
  },
  {
   "cell_type": "markdown",
   "metadata": {},
   "source": [
    "What is the calculated *OD str* to *OH str* frequency ratio?"
   ]
  },
  {
   "cell_type": "code",
   "execution_count": null,
   "metadata": {},
   "outputs": [],
   "source": [
    "calc_ratio = \n",
    "print(calc_ratio)"
   ]
  },
  {
   "cell_type": "markdown",
   "metadata": {},
   "source": [
    "Import the other calculated spectra from WebMO for CH$_3$OD and CD$_3$OD:"
   ]
  },
  {
   "cell_type": "code",
   "execution_count": null,
   "metadata": {},
   "outputs": [],
   "source": [
    "calc2 = \n",
    "\n",
    "calc3 = "
   ]
  },
  {
   "cell_type": "code",
   "execution_count": null,
   "metadata": {},
   "outputs": [],
   "source": [
    "x4 = calc1['wav']\n",
    "y4 = calc1['int']\n",
    "\n",
    "x5 = calc2['wav']\n",
    "y5 = calc2['int']\n",
    "\n",
    "x6 = calc3['wav']\n",
    "y6 = calc3['int']"
   ]
  },
  {
   "cell_type": "markdown",
   "metadata": {},
   "source": [
    "## Results\n",
    "Plot the theoretical spectrum and compare it to the experimental spectrum. Since they have different ranges for the y-axis, we can perform a scaling on the theoretical spectrum within the plotting code (isn’t that great?). You will notice that the calculated bands are much narrower and to higher energy than the experimental bands.\n",
    "\n",
    "---\n",
    "### $CH_3OH$\n",
    "Modify the scaling in the code below to align the calculated OH stretch to the experimental OH stretch. "
   ]
  },
  {
   "cell_type": "code",
   "execution_count": null,
   "metadata": {},
   "outputs": [],
   "source": [
    "plt.figure(figsize=[20,5])\n",
    "\n",
    "plt.plot(1.0*x4,y4/200,\"g-\",label=\"CH$_3$OH-calc\") #change the x4 scaling factor here\n",
    "plt.plot(x1,y1,\"b-\",label=\"CH$_3$OH\")\n",
    "\n",
    "### Label the bands as you identify them.\n",
    "plt.text(3700,0.7,\"A\",rotation=90, size=14)\n",
    "plt.text(2970,1.5,\"B\",rotation=90, size=14)\n",
    "plt.text(2850,1.0,\"C\",rotation=90, size=14)\n",
    "plt.text(1500,0.4,\"D\",rotation=90, size=14)\n",
    "plt.text(1350,0.5,\"E\",rotation=90, size=14)\n",
    "plt.text(980,1.7,\"F\",rotation=90, size=14)\n",
    "\n",
    "plt.xlabel('Wavenumber (cm$^{-1}$)', size=16)\n",
    "plt.ylabel('Intensity (arb.)', size=16)\n",
    "plt.xlim(4000,700)\n",
    "plt.ylim(0,2.5)\n",
    "plt.legend()\n",
    "plt.show()"
   ]
  },
  {
   "cell_type": "markdown",
   "metadata": {},
   "source": [
    "### Methanol group frequencies:\n",
    "Assign the vibrational frequencies for the methanol spectrum *(replace the labels in the code above)*. Four regions of strong to medium absorption are easily recognised, but careful comparison of the CH$_3$OH and CH$_3$OD spectra shows that the absorption of CH$_3$OH in the 1300–1500 cm$^{–1}$ region consist of two overlapping bands, each of irregular shape. The 3100–2800 cm$^{–1}$ region consists of three bands, two are irregular and can be considered as one. The other is of regular shape to lower frequency. Read off the centre frequency of all bands of well-defined shape and the maxima in the 1300–1500 cm$^{–1}$ and 3100–2800 cm$^{–1}$ regions."
   ]
  },
  {
   "cell_type": "markdown",
   "metadata": {},
   "source": [
    "Repeat these steps for the deuterated derivatives below and assign their vibrational frequencies.\n",
    "\n",
    "### $CH_3OD$\n",
    "On replacing the O–H group with O–D we expect the O–H stretch band and the C–O–H bend band to shift to lower frequencies by a factor of ~1.4, while all other bands remain virtually unshifted. Carefully compare the CH$_3$OH and CH$_3$OD spectra and identify the two bands of the CH$_3$OH spectrum which do not appear (or appear only weakly – the CH$_3$OD sample may not be pure) in the CH$_3$OD spectrum.  These two bands must be *OH str* and *COH bend*. Furthermore, given that stretching vibrations occur at higher frequencies than bending vibrations, i.e. *OH str > COH bend*, it is now possible to assign these for CH$_3$OH. The CH$_3$OD spectrum must similarly have two bands which do not appear in the CH$_3$OH spectrum; these must be *OD str* and *COD bend* for the CH$_3$OD molecule."
   ]
  },
  {
   "cell_type": "code",
   "execution_count": null,
   "metadata": {},
   "outputs": [],
   "source": [
    "plt.figure(figsize=[20,5])\n",
    "\n",
    "plt.plot(1.0*x5,y5/200,\"g-\",label=\"CH$_3$OD-calc\") \n",
    "plt.plot(x2,y2,\"b-\",label=\"CH$_3$OD\")\n",
    "\n",
    "### Label the bands as you identify them.\n",
    "plt.text(2970,1.2,\"A\",rotation=90, size=14)\n",
    "plt.text(2850,0.8,\"B\",rotation=90, size=14)\n",
    "plt.text(2730,0.4,\"C\",rotation=90, size=14)\n",
    "plt.text(1480,0.25,\"D\",rotation=90, size=14)\n",
    "plt.text(1150,1.3,\"E\",rotation=90, size=14)\n",
    "plt.text(880,0.8,\"F\",rotation=90, size=14)\n",
    "\n",
    "plt.xlabel('Wavenumber (cm$^{-1}$)', size=16)\n",
    "plt.ylabel('Intensity (arb.)', size=16)\n",
    "plt.xlim(4000,700)\n",
    "plt.ylim(0,2)\n",
    "plt.legend()\n",
    "plt.show()"
   ]
  },
  {
   "cell_type": "markdown",
   "metadata": {},
   "source": [
    "### $CD_3OD$\n",
    "Arguments similar to those above show that a comparison of the CH$_3$OD and CD$_3$OD spectra should enable an identification of the C–H stretch and H–C–H bend bands. The CD$_3$OD sample is difficult to obtain with 100% purity and the following peaks in the spectrum should be ignored:\n",
    "- 3700 cm$^{–1}$ (weak) and 1280 cm$^{–1}$ (medium), due to CD$_3$OH;\n",
    "- 1070 cm$^{–1}$ (medium) and 1050 cm$^{–1}$ (medium), due to CD$_2$HOD;\n",
    "- 1020 cm$^{–1}$ (medium), due to CD$_2$HOD.\n",
    "\n",
    "Before you start assigning peaks in the CD$_3$OD spectrum, mark the above peaks so you can ignore them in your subsequent analysis. \n",
    "\n",
    "List the frequencies of the remaining bands and use deuterium frequency shifts to identify *CH str* and *HCH bend*.  The assignment of these can be checked by going back to the CH$_3$OH spectrum:  they should not change (much) in frequency on going from CH$_3$OH to CH$_3$OD.  The remaining band can now be assigned to the *CO str*."
   ]
  },
  {
   "cell_type": "code",
   "execution_count": null,
   "metadata": {},
   "outputs": [],
   "source": [
    "plt.figure(figsize=[20,5])\n",
    "\n",
    "plt.plot(1.0*x6,y6/200,\"g-\",label=\"CD$_3$OD-calc\") \n",
    "plt.plot(x3,y3,\"b-\",label=\"CD$_3$OD\")\n",
    "\n",
    "### Label the bands as you identify them.\n",
    "plt.text(2730,0.4,\"A\",rotation=90, size=14)\n",
    "plt.text(2250,0.7,\"B\",rotation=90, size=14)\n",
    "plt.text(2050,0.7,\"C\",rotation=90, size=14)\n",
    "plt.text(1150,0.7,\"D\",rotation=90, size=14)\n",
    "plt.text(950,0.8,\"E\",rotation=90, size=14)\n",
    "plt.text(800,0.5,\"F\",rotation=90, size=14)\n",
    "\n",
    "plt.xlabel('Wavenumber (cm$^{-1}$)', size=16)\n",
    "plt.ylabel('Intensity (arb.)', size=16)\n",
    "plt.xlim(4000,700)\n",
    "plt.ylim(0,2)\n",
    "plt.legend()\n",
    "plt.show()"
   ]
  },
  {
   "cell_type": "markdown",
   "metadata": {},
   "source": [
    "### Unassigned band\n",
    "Zoom into the 2000 cm$^{-1}$ region by adjusting the plotting range using the code below. Is there an experimental band that is not apparent in the theoretical spectra? This frequency is very unusual for a fundamental frequency. C≡N stretches are a notable exception. \n",
    "\n",
    "By adjusting the threshold, distance, width and height parameters within the [Scipy find_peaks function](https://docs.scipy.org/doc/scipy/reference/generated/scipy.signal.find_peaks.html), determine the wavenumber of the peak related to the feature near 2000 cm$^{-1}$. Pay attention to the band profile!"
   ]
  },
  {
   "cell_type": "code",
   "execution_count": null,
   "metadata": {
    "scrolled": false
   },
   "outputs": [],
   "source": [
    "import scipy.signal as sig\n",
    "\n",
    "peaks = sig.find_peaks(y1, threshold=None, distance=40, width=None, height=0.025)\n",
    "\n",
    "xmin = 1900\n",
    "xmax = 2200\n",
    "\n",
    "plt.figure(figsize=[20,5])\n",
    "plt.plot(x1[peaks[0]],y1[peaks[0]],\"ro\")\n",
    "plt.plot(x1,y1)\n",
    "plt.xlabel('wavenumber (cm$^{-1}$)', size=16)\n",
    "plt.ylabel('intensity (normalised)', size=16)\n",
    "plt.xlim(xmax,xmin)\n",
    "plt.ylim(0,0.2)\n",
    "\n",
    "for i in range(len(peaks[0])):\n",
    "    if x1[peaks[0][i]] > xmin and x1[peaks[0][i]] < xmax:\n",
    "        stri = '%s' % float('%.5g' % x1[peaks[0][i]])\n",
    "        plt.text(x1[peaks[0][i]],y1[peaks[0][i]]+0.02,stri,rotation=90, size=14)\n",
    "\n",
    "plt.show()"
   ]
  },
  {
   "cell_type": "markdown",
   "metadata": {},
   "source": [
    "Use the above code to determine the experimental O-D stretching frequency, and compare this to the experimental O-H stretching frequency. \n",
    "\n",
    "*NOTE: Remember to change to x2/y2 or x3/y3 to plot the CH$_3$OD and CD$_3$OD plots. There are six `x1` and four `y1` to change in the above code!*"
   ]
  },
  {
   "cell_type": "code",
   "execution_count": null,
   "metadata": {},
   "outputs": [],
   "source": [
    "exp_ratio = \n",
    "print(exp_ratio)"
   ]
  },
  {
   "cell_type": "markdown",
   "metadata": {},
   "source": [
    "How does this compare to the calculated OD:OH str frequency ratio from before?"
   ]
  }
 ],
 "metadata": {
  "kernelspec": {
   "display_name": "Python 3",
   "language": "python",
   "name": "python3"
  },
  "language_info": {
   "codemirror_mode": {
    "name": "ipython",
    "version": 3
   },
   "file_extension": ".py",
   "mimetype": "text/x-python",
   "name": "python",
   "nbconvert_exporter": "python",
   "pygments_lexer": "ipython3",
   "version": "3.7.6"
  }
 },
 "nbformat": 4,
 "nbformat_minor": 4
}
