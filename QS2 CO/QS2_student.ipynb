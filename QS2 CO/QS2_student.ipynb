{
 "cells": [
  {
   "cell_type": "markdown",
   "metadata": {},
   "source": [
    "# QS2 Rotation-Vibration Spectrum of CO\n",
    "\n",
    "## Importing data\n",
    "Download your data from Moodle and import it as well as the necessary libraries:"
   ]
  },
  {
   "cell_type": "code",
   "execution_count": null,
   "metadata": {},
   "outputs": [],
   "source": [
    "import pandas as pd\n",
    "import matplotlib.pyplot as plt\n",
    "import scipy.signal as sg\n",
    "import scipy.optimize as opt \n",
    "import numpy as np\n",
    "\n",
    "%matplotlib inline\n",
    "plt.style.use('seaborn-whitegrid')\n",
    "\n",
    "# Import data\n",
    "data = pd.read_csv('CO.CSV')"
   ]
  },
  {
   "cell_type": "markdown",
   "metadata": {},
   "source": [
    "Check your data has imported correctly:"
   ]
  },
  {
   "cell_type": "code",
   "execution_count": null,
   "metadata": {},
   "outputs": [],
   "source": [
    "data"
   ]
  },
  {
   "cell_type": "markdown",
   "metadata": {},
   "source": [
    "Plot the experimental spectrum. Concentrate on the structure in the 2150 cm$^{−1}$ region of the spectrum (zoom in using `xmin` and `xmax`)."
   ]
  },
  {
   "cell_type": "code",
   "execution_count": null,
   "metadata": {},
   "outputs": [],
   "source": [
    "# Plot data\n",
    "xdata = data['wav']\n",
    "ydata = data['int']-0.061\n",
    "\n",
    "xmin = 4000 #UPDATE\n",
    "xmax = 400  #UPDATE\n",
    "\n",
    "fig = plt.figure(figsize=(16,6))\n",
    "plt.plot(xdata,ydata)\n",
    "\n",
    "plt.xlabel('Wavenumber (cm$^{-1}$)', size=16)\n",
    "plt.ylabel('Absorbance',size=16)\n",
    "#plt.title(\"TITLE\", size=16)\n",
    "plt.xlim(xmax,xmin)\n",
    "plt.ylim(0,0.65)\n",
    "plt.show()"
   ]
  },
  {
   "cell_type": "markdown",
   "metadata": {},
   "source": [
    "## Pick the Peaks"
   ]
  },
  {
   "cell_type": "markdown",
   "metadata": {},
   "source": [
    "Use the code below to pick the peak positions by adjusting the **`prominence`** and **`distance`** parameters within the [find_peaks](https://docs.scipy.org/doc/scipy/reference/generated/scipy.signal.find_peaks.html) function. Make sure that as many peaks have been picked as possible. Extra peaks or false peaks do not matter at this stage."
   ]
  },
  {
   "cell_type": "code",
   "execution_count": null,
   "metadata": {},
   "outputs": [],
   "source": [
    "peaks = sg.find_peaks(ydata, prominence=0.02, distance=1) # Adjust the parameters\n",
    "\n",
    "fig = plt.figure(figsize=(16,6))\n",
    "plt.plot(xdata[peaks[0]],ydata[peaks[0]],\"ro\")\n",
    "plt.plot(xdata,ydata)\n",
    "xmin = 2000\n",
    "xmax = 2250\n",
    "ymin = 0.0\n",
    "ymax = 0.7\n",
    "plt.xlim(xmax,xmin)\n",
    "plt.ylim(ymin,ymax)\n",
    "\n",
    "# Labelling the picked peaks\n",
    "for i in range(len(peaks[0])):\n",
    "    if xdata[peaks[0][i]] > xmin and xdata[peaks[0][i]] < xmax:\n",
    "        stri = '({})'.format(i)\n",
    "        plt.text(xdata[peaks[0][i]],ydata[peaks[0][i]]+0.02,stri,rotation=90)\n",
    "\n",
    "plt.xlabel('Wavenumber (cm$^{-1}$)', size=16)\n",
    "plt.ylabel('Absorbance',size=16)\n",
    "plt.title(\"Picked Peaks\", size=16)\n",
    "plt.show()"
   ]
  },
  {
   "cell_type": "markdown",
   "metadata": {},
   "source": [
    "## Assign R branch\n",
    "To aid your analysis, the first line in the R-branch should be located near 2147 cm$^{−1}$. *Ensure the peaks are numbered from the middle **outwards**.*"
   ]
  },
  {
   "cell_type": "code",
   "execution_count": null,
   "metadata": {},
   "outputs": [],
   "source": [
    "######### Choose the indices of the peaks associated with the R-branch. R(0) is at 2147 cm-1\n",
    "R = list(range(104,131))            # Complete the list of indices AND label from the middle outwards\n",
    "offsetR = 0        # Update the offset to assign the lower quantum number, J\"\n",
    "#########\n",
    "\n",
    "### Creating the figure\n",
    "fig= plt.figure(figsize=(16,6))\n",
    "plt.plot(xdata,ydata)\n",
    "\n",
    "xmin = 2000\n",
    "xmax = 2250\n",
    "ymin = 0.0\n",
    "ymax= 0.8\n",
    "plt.xlim(xmax,xmin)\n",
    "plt.ylim(ymin,ymax)\n",
    "\n",
    "### Empty arrays where the assigned wavenumber and quantum number will be stored\n",
    "R_x = np.array([],dtype=np.float64)\n",
    "R_y = np.array([],dtype=np.float64)\n",
    "JR = np.array([],dtype=np.int64)\n",
    "\n",
    "### Assigning and labelling peaks\n",
    "for i in range(len(R)):\n",
    "    R_x = np.append(R_x,xdata[peaks[0][R[i]]])\n",
    "    R_y = np.append(R_y,ydata[peaks[0][R[i]]])\n",
    "    JR = np.append(JR,i + offsetR) \n",
    "    stri = 'R({})  {:.5}'.format(JR[i],R_x[i])\n",
    "    plt.text(R_x[i],R_y[i]+.02,stri,rotation=90,color='g')\n",
    "\n",
    "### Plot\n",
    "plt.plot(R_x,R_y,'go',label= 'R-branch')\n",
    "plt.xlabel('Wavenumber (cm$^{-1}$)', size=16)\n",
    "plt.ylabel('Absorbance',size=16)\n",
    "plt.legend()\n",
    "plt.show()"
   ]
  },
  {
   "cell_type": "markdown",
   "metadata": {},
   "source": [
    "## Assign P branch\n",
    "Repeat for the P branch. *Ensure the peaks are numbered from the middle **outwards**.*"
   ]
  },
  {
   "cell_type": "code",
   "execution_count": null,
   "metadata": {},
   "outputs": [],
   "source": [
    "P = list(range(78,104))\n",
    "P.reverse()"
   ]
  },
  {
   "cell_type": "code",
   "execution_count": null,
   "metadata": {},
   "outputs": [],
   "source": [
    "######### Choose the indices of the peaks associated with the P-branch.\n",
    "#P =          # Complete the list of indices AND label from the middle outwards\n",
    "offsetP = 1      # Update the offset to assign the lower quantum number, J\"\n",
    "#########\n",
    "\n",
    "fig= plt.figure(figsize=(16,6))\n",
    "plt.plot(xdata,ydata)\n",
    "\n",
    "xmin = 2000\n",
    "xmax = 2250\n",
    "ymin = 0.0\n",
    "ymax= 0.6\n",
    "plt.xlim(xmax,xmin)\n",
    "plt.ylim(ymin,ymax)\n",
    "\n",
    "P_x = np.array([],dtype=np.float64)\n",
    "P_y = np.array([],dtype=np.float64)\n",
    "JP = np.array([],dtype=np.int64)\n",
    "\n",
    "for i in range(len(P)):\n",
    "    P_x = np.append(P_x,xdata[peaks[0][P[i]]])\n",
    "    P_y = np.append(P_y,ydata[peaks[0][P[i]]])\n",
    "    JP = np.append(JP,i + offsetP) \n",
    "    stri = 'P({})  {:.5}'.format(JP[i],P_x[i])\n",
    "    plt.text(P_x[i],P_y[i]+0.02,stri,rotation=90,color='r')\n",
    "\n",
    "for i in range(len(R)):\n",
    "    stri = 'R({})  {:.5}'.format(JR[i],R_x[i])\n",
    "    plt.text(R_x[i],R_y[i]+0.02,stri,rotation=90,color='g')\n",
    "\n",
    "\n",
    "plt.plot(R_x,R_y,'go',label= 'R-branch')\n",
    "plt.plot(P_x,P_y,'ro',label= 'P-branch')\n",
    "plt.xlabel('Wavenumber (cm$^{-1}$)', size=16)\n",
    "plt.ylabel('Absorbance',size=16)\n",
    "plt.legend()\n",
    "plt.show()"
   ]
  },
  {
   "cell_type": "markdown",
   "metadata": {},
   "source": [
    "Store the picked wavenumbers (cm$^{-1}$) in the array `energy` using the code below. Create a new quantum number $x$, which will allow both sets of data to be plotted together on the same curve. Is it smooth?"
   ]
  },
  {
   "cell_type": "code",
   "execution_count": null,
   "metadata": {},
   "outputs": [],
   "source": [
    "### Empty arrays\n",
    "energy = np.array([],dtype=np.float64)\n",
    "x = np.array([],dtype=np.int64)\n",
    "\n",
    "### Assigning quantum number x to plot together on same curve\n",
    "for i in range(len(JR)):\n",
    "    x = np.append(x,JR[i]+1)     # J\" + 1, see Equation 12\n",
    "    energy = np.append(energy,R_x[i])\n",
    "\n",
    "for i in range(len(JP)):\n",
    "    x = np.append(x,-JP[i])      # = -J\", see Equation 12\n",
    "    energy = np.append(energy,P_x[i])"
   ]
  },
  {
   "cell_type": "markdown",
   "metadata": {},
   "source": [
    "*Note: The branch positions have switched, so P is bottom left and R is top right (in line with increasing energy).*"
   ]
  },
  {
   "cell_type": "code",
   "execution_count": null,
   "metadata": {},
   "outputs": [],
   "source": [
    "plt.plot(x,energy,'go',label='combined data')\n",
    "plt.xlabel('$x$',size=16)\n",
    "plt.ylabel('wavenumber (cm$^{-1}$)',size=16)\n",
    "plt.legend()\n",
    "plt.show()"
   ]
  },
  {
   "cell_type": "markdown",
   "metadata": {},
   "source": [
    "Fit the wavenumbers and energy to determine $\\omega$, $B_1$ and $B_0$, then $B_e$:"
   ]
  },
  {
   "cell_type": "code",
   "execution_count": null,
   "metadata": {},
   "outputs": [],
   "source": [
    "### Fit a function:\n",
    "### ----------------\n",
    "### Note: To use the extra terms in the fit you will need to \n",
    "### add 'd' and 'e' as a parameter when defining the function\n",
    "\n",
    "def func(x,a,b,c,d):\n",
    "    return a*x**2 + b*x + c + d*x**3 \n",
    "\n",
    "optP, pcov = opt.curve_fit(func,x, energy)\n",
    "\n",
    "plt.plot(x,energy,'go',label='data')\n",
    "plt.plot(x,func(x,*optP),'r.',label='fit')\n",
    "\n",
    "plt.xlabel('$x$',size=16)\n",
    "plt.ylabel('wavenumber (cm$^{-1}$)',size=16)\n",
    "plt.legend()\n",
    "plt.show()"
   ]
  },
  {
   "cell_type": "code",
   "execution_count": null,
   "metadata": {},
   "outputs": [],
   "source": [
    "B0 = (optP[1]-optP[0])/2\n",
    "B1 = (optP[1]+optP[0])/2\n",
    "w = optP[2]\n",
    "\n",
    "Be = B0 - 0.5*(B1-B0)\n",
    "\n",
    "print('B1 = ',B1,' cm-1')\n",
    "print('B0 = ',B0,' cm-1')\n",
    "print('Be = ',Be,' cm-1')\n",
    "print('w = ',w,' cm-1')"
   ]
  },
  {
   "cell_type": "code",
   "execution_count": null,
   "metadata": {},
   "outputs": [],
   "source": [
    "err_a = 2*pcov[0][0]**0.5\n",
    "err_b = 2*pcov[1][1]**0.5\n",
    "\n",
    "err_B0 = (err_a**2+err_b**2)**0.5\n",
    "\n",
    "err_Be = (err_B0**2+(0.5*err_a)**2)**0.5\n",
    "\n",
    "print('Be = ',Be,'+/-',err_Be,' cm-1')"
   ]
  },
  {
   "cell_type": "markdown",
   "metadata": {},
   "source": [
    "The literature value is $B_e$ = 1.93128087 cm$^{-1}$. Estimate errors in your numbers, if out... try adding a cubic term to the fit! This will account for higher order terms not present in the rigid rotor model, such as centrifugal distortion.\n",
    "\n",
    "Now calculate $r_e$ and $\\alpha_e$, referring to equations in the Introduction:"
   ]
  },
  {
   "cell_type": "code",
   "execution_count": null,
   "metadata": {},
   "outputs": [],
   "source": [
    "from scipy import constants"
   ]
  },
  {
   "cell_type": "markdown",
   "metadata": {},
   "source": [
    "$$ B_v = \\frac{h}{8 c \\pi^2 \\mu r_v^2} $$\n",
    "\n",
    "Rearrange for $r_v$:\n",
    "\n",
    "$$ r_v = \\sqrt{\\frac{h}{8 c \\pi^2 \\mu B_v}} $$"
   ]
  },
  {
   "cell_type": "code",
   "execution_count": null,
   "metadata": {},
   "outputs": [],
   "source": [
    "h = constants.h\n",
    "c = constants.c*100       # cm s-1\n",
    "u = 6.85620864*1.6605e-27 # Dalton to kg"
   ]
  },
  {
   "cell_type": "code",
   "execution_count": null,
   "metadata": {},
   "outputs": [],
   "source": [
    "def rv(Bv):\n",
    "    rv = np.sqrt(h/(8*c*np.pi**2*u*Bv))\n",
    "    return rv"
   ]
  },
  {
   "cell_type": "code",
   "execution_count": null,
   "metadata": {},
   "outputs": [],
   "source": [
    "re = (rv(B0)+rv(B1))/2\n",
    "print('r_e = ', str.format('{:.4g}', re*1e10), 'angstrom.')"
   ]
  },
  {
   "cell_type": "markdown",
   "metadata": {},
   "source": [
    "$$ B_v = B_e − α_e(v + 0.5) $$"
   ]
  },
  {
   "cell_type": "code",
   "execution_count": null,
   "metadata": {},
   "outputs": [],
   "source": [
    "def alpha_e(Bv, v):\n",
    "    alpha_e = (Be - Bv)/(v+0.5)\n",
    "    return alpha_e"
   ]
  },
  {
   "cell_type": "code",
   "execution_count": null,
   "metadata": {},
   "outputs": [],
   "source": [
    "alpha_e(B0, 0)"
   ]
  },
  {
   "cell_type": "code",
   "execution_count": null,
   "metadata": {},
   "outputs": [],
   "source": [
    "ae = (alpha_e(B0, 0) + alpha_e(B1, 1))/2\n",
    "print('alpha_e = ', str.format('{:.4g}', ae))"
   ]
  },
  {
   "cell_type": "markdown",
   "metadata": {},
   "source": [
    "Finally, calculate the expected frequency of a pure rotational 1-0 emission. Research how this frequency is used in astronomy - why is it important?"
   ]
  },
  {
   "cell_type": "code",
   "execution_count": null,
   "metadata": {},
   "outputs": [],
   "source": [
    "c = 2.99792458e10 #speed of light in cm\n",
    "emission = 2*B0*c\n",
    "print('emission is expected at ',emission,'+/-',2*err_B0*c,'Hz')\n",
    "print('emission is expected at ',emission/1e9,'+/-',2*err_B0*c/1e9,'GHz')"
   ]
  },
  {
   "cell_type": "markdown",
   "metadata": {},
   "source": [
    "## Intensities and Temperature\n",
    "The intensity of the R-branch can be crudely modelled by weighting the degeneracy of the $J$-level, $2J+1$, and a Boltzmann term, $\\exp(-E(J)/k_BT)$, where $E(J)=B_0J(J+1)$. In the code below, adjust $k_BT$ in cm$^{-1}$ to match the maximum $J$ of your experimental data. Convert $k_BT$ to Kelvin. Is it reasonable?"
   ]
  },
  {
   "cell_type": "code",
   "execution_count": null,
   "metadata": {},
   "outputs": [],
   "source": [
    "kT=36\n",
    "\n",
    "factor=0.065\n",
    "\n",
    "plt.xlabel('$J$',size=16)\n",
    "plt.ylabel('intensity',size=16)\n",
    "plt.plot(JR,R_y,\"ro\", label='experimental')\n",
    "plt.plot(JR,factor*(2*JR+1)*np.exp(-B0*JR*(JR+1)/kT), label='fit')\n",
    "plt.legend()\n",
    "\n",
    "Kelvincm = 2.9979e10*6.626e-34/1.306e-23 # c*h/k_B\n",
    "\n",
    "print('Temperature is ',kT*Kelvincm, 'K')"
   ]
  },
  {
   "cell_type": "markdown",
   "metadata": {},
   "source": [
    "What is the temperature of interstellar CO if its absorption peaks at $J'' = 3$?"
   ]
  },
  {
   "cell_type": "code",
   "execution_count": null,
   "metadata": {},
   "outputs": [],
   "source": []
  }
 ],
 "metadata": {
  "kernelspec": {
   "display_name": "Python 3",
   "language": "python",
   "name": "python3"
  },
  "language_info": {
   "codemirror_mode": {
    "name": "ipython",
    "version": 3
   },
   "file_extension": ".py",
   "mimetype": "text/x-python",
   "name": "python",
   "nbconvert_exporter": "python",
   "pygments_lexer": "ipython3",
   "version": "3.7.6"
  }
 },
 "nbformat": 4,
 "nbformat_minor": 4
}
