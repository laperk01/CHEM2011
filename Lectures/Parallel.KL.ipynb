{
 "cells": [
  {
   "cell_type": "code",
   "execution_count": 1,
   "metadata": {},
   "outputs": [],
   "source": [
    "from ipywidgets import interact, interactive, fixed, interact_manual\n",
    "import ipywidgets as widgets\n",
    "\n",
    "import numpy as np\n",
    "\n",
    "import matplotlib.pyplot as plt\n",
    "plt.style.use('seaborn-whitegrid')\n",
    "%matplotlib inline"
   ]
  },
  {
   "cell_type": "markdown",
   "metadata": {},
   "source": [
    "*Complete the rate expression for the species below by editing this Markdown cell (double-click or Enter).*\n",
    "\n",
    "# Parallel reactions\n",
    "For a parallel reaction where reactant A can become either product B or product C: \n",
    "\n",
    "$$A \\overset{k_B}{\\rightarrow} B $$\n",
    "$$A \\overset{k_C}{\\rightarrow} C $$\n",
    "\n",
    "The differential rate expressions are:\n",
    "\n",
    "$ \\frac{d[A]}{dt} = -k_B[A] - k_C[A] = -(k_B + k_C)[A] $\n",
    "\n",
    "$ \\frac{d[B]}{dt} = k_B[A] $ \n",
    "\n",
    "$ \\frac{d[C]}{dt} = k_C[A] $"
   ]
  },
  {
   "cell_type": "markdown",
   "metadata": {},
   "source": [
    "The integrated rate equations for each species is:\n",
    "\n",
    "$$ [A] = [A]_0 e^{-(k_B + k_C)t} $$\n",
    "\n",
    "$$ [B] = \\frac{k_B}{k_B + k_C}[A]_0 \\left (1-e^{-(k_B + k_C)t}\\right ) $$\n",
    "\n",
    "$$ [C] = \\frac{k_C}{k_B + k_C}[A]_0 \\left (1-e^{-(k_B + k_C)t}\\right )$$"
   ]
  },
  {
   "cell_type": "code",
   "execution_count": 31,
   "metadata": {},
   "outputs": [],
   "source": [
    "# Create time data and initial values\n",
    "t = np.arange(0, 50, 0.1) # numpy creates an array range that is sampled evenly\n",
    "A0 = 1.0 \n",
    "kB = 0.1\n",
    "kC = 0.05"
   ]
  },
  {
   "cell_type": "code",
   "execution_count": 48,
   "metadata": {},
   "outputs": [],
   "source": [
    "def A(kB, kC, kD):\n",
    "    A = A0*np.exp(-(kB+kC+kD)*t)\n",
    "    return A"
   ]
  },
  {
   "cell_type": "code",
   "execution_count": 50,
   "metadata": {},
   "outputs": [],
   "source": [
    "def B(kB, kC, kD):\n",
    "    B = kB/(kB+kC+kD)*(1-np.exp(-(kB+kC+kD)*t))*A0\n",
    "    return B"
   ]
  },
  {
   "cell_type": "code",
   "execution_count": 52,
   "metadata": {},
   "outputs": [],
   "source": [
    "def C(kB, kC, kD):\n",
    "    C = kC/(kB+kC+kD)*(1-np.exp(-(kB+kC+kD)*t))*A0\n",
    "    return C"
   ]
  },
  {
   "cell_type": "code",
   "execution_count": 53,
   "metadata": {},
   "outputs": [],
   "source": [
    "def D(kB, kC, kD):\n",
    "    D = kD/(kB+kC+kD)*(1-np.exp(-(kB+kC+kD)*t))*A0\n",
    "    return D"
   ]
  },
  {
   "cell_type": "markdown",
   "metadata": {},
   "source": [
    "## Plot"
   ]
  },
  {
   "cell_type": "code",
   "execution_count": 54,
   "metadata": {},
   "outputs": [],
   "source": [
    "def parallel(kB, kC, kD):\n",
    "    plt.figure(figsize=(12,8))\n",
    "    plt.plot(t, A(kB, kC, kD), label='A')\n",
    "    plt.plot(t, B(kB, kC, kD), label='B')\n",
    "    plt.plot(t, C(kB, kC, kD), label='C')\n",
    "    plt.plot(t, D(kB, kC, kD), label='D')\n",
    "    \n",
    "    plt.legend()\n",
    "    plt.ylim(0, 1)\n",
    "    plt.xlabel('Time /s', size=16)\n",
    "    plt.ylabel('Concentration of species /M', size=16)\n",
    "    plt.show()"
   ]
  },
  {
   "cell_type": "code",
   "execution_count": 59,
   "metadata": {},
   "outputs": [
    {
     "data": {
      "application/vnd.jupyter.widget-view+json": {
       "model_id": "4f1e2c82b8ce4bcd8c71aee718ec3dd0",
       "version_major": 2,
       "version_minor": 0
      },
      "text/plain": [
       "interactive(children=(Output(),), _dom_classes=('widget-interact',))"
      ]
     },
     "metadata": {},
     "output_type": "display_data"
    }
   ],
   "source": [
    "interactive_plot = interactive(parallel, kB=fixed(0.05), kC=fixed(0.1), kD=fixed(0.2))\n",
    "interactive_plot"
   ]
  },
  {
   "cell_type": "markdown",
   "metadata": {},
   "source": [
    "Choose some values for $k_B$ and $k_C$. What is the ratio of [B]/[C] at 10 s? What is the ratio at 20 s? How does this relate to the ratio of the rate constants?"
   ]
  },
  {
   "cell_type": "code",
   "execution_count": 47,
   "metadata": {},
   "outputs": [
    {
     "data": {
      "text/plain": [
       "0.48387096774193544"
      ]
     },
     "execution_count": 47,
     "metadata": {},
     "output_type": "execute_result"
    }
   ],
   "source": [
    "#[B]/[C] at 10 s\n"
   ]
  },
  {
   "cell_type": "code",
   "execution_count": 46,
   "metadata": {},
   "outputs": [
    {
     "data": {
      "text/plain": [
       "0.5"
      ]
     },
     "execution_count": 46,
     "metadata": {},
     "output_type": "execute_result"
    }
   ],
   "source": [
    "#kB/kC at 10 s\n"
   ]
  },
  {
   "cell_type": "markdown",
   "metadata": {},
   "source": [
    "Predict what would happen if A could also form product D and its rate constant $k_D = 2k_C = 4k_B = 0.2 s^{-1} $. Then plot this to confirm your prediction."
   ]
  }
 ],
 "metadata": {
  "kernelspec": {
   "display_name": "Python 3",
   "language": "python",
   "name": "python3"
  },
  "language_info": {
   "codemirror_mode": {
    "name": "ipython",
    "version": 3
   },
   "file_extension": ".py",
   "mimetype": "text/x-python",
   "name": "python",
   "nbconvert_exporter": "python",
   "pygments_lexer": "ipython3",
   "version": "3.7.6"
  }
 },
 "nbformat": 4,
 "nbformat_minor": 4
}
