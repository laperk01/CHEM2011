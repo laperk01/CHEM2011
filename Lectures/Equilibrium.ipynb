{
 "cells": [
  {
   "cell_type": "code",
   "execution_count": null,
   "metadata": {},
   "outputs": [],
   "source": [
    "from ipywidgets import interact, interactive, fixed, interact_manual\n",
    "import ipywidgets as widgets\n",
    "\n",
    "import numpy as np\n",
    "\n",
    "import matplotlib.pyplot as plt\n",
    "plt.style.use('seaborn-whitegrid')\n",
    "%matplotlib inline"
   ]
  },
  {
   "cell_type": "markdown",
   "metadata": {},
   "source": [
    "*Complete the rate expression for the intermediate below by editing this Markdown cell (double-click or Enter).*\n",
    "\n",
    "# Equilibrium reactions\n",
    "For a reaction where reactant A becomes product B but may reform reactants again: \n",
    "$$ A \\overset{k_A}{\\underset{k_B}\\rightleftarrows} B $$\n",
    "\n",
    "The differential rate expressions are:\n",
    "\n",
    "$ \\frac{d[A]}{dt} = ? $\n",
    "\n",
    "$ \\frac{d[B]}{dt} = ? $ \n",
    "\n",
    "*(Hint: Both species are being formed and consumed.)*"
   ]
  },
  {
   "cell_type": "markdown",
   "metadata": {},
   "source": [
    "The integrated rate equations for each species is:\n",
    "\n",
    "$$ [A] = [A]_0 \\frac{k_B - k_A e^{-(k_A + k_B)t}}{k_A + k_B} $$\n",
    "\n",
    "$$ [B] = [A]_0 \\left ( 1 - \\frac{k_B - k_A e^{-(k_A + k_B)t}}{k_A + k_B} \\right ) $$"
   ]
  },
  {
   "cell_type": "code",
   "execution_count": null,
   "metadata": {},
   "outputs": [],
   "source": [
    "def A(kA, kB):\n",
    "    A = \n",
    "    return A"
   ]
  },
  {
   "cell_type": "code",
   "execution_count": null,
   "metadata": {},
   "outputs": [],
   "source": [
    "def B(kA, kB):\n",
    "    B = \n",
    "    return B"
   ]
  },
  {
   "cell_type": "code",
   "execution_count": null,
   "metadata": {},
   "outputs": [],
   "source": [
    "# Create time data and initial values\n",
    "t = np.arange(0, 5, 0.1) # numpy creates an array range that is sampled evenly\n",
    "A0 = 1.0 \n",
    "kA = 1\n",
    "kB = 1"
   ]
  },
  {
   "cell_type": "markdown",
   "metadata": {},
   "source": [
    "## Plot"
   ]
  },
  {
   "cell_type": "code",
   "execution_count": null,
   "metadata": {},
   "outputs": [],
   "source": [
    "def parallel(kA, kB):\n",
    "    plt.figure()\n",
    "    plt.plot(t, A(kA, kB), label='A')\n",
    "    plt.plot(t, B(kA, kB), label='B')\n",
    "\n",
    "    plt.legend()\n",
    "    plt.ylim(0, 1)\n",
    "    plt.xlabel('Time /s', size=14)\n",
    "    plt.ylabel('Concentration of species /M', size=14)\n",
    "    plt.show()"
   ]
  },
  {
   "cell_type": "code",
   "execution_count": null,
   "metadata": {},
   "outputs": [],
   "source": [
    "interactive_plot = interactive(parallel, kA=(0.5,2,0.1), kB=fixed(1))\n",
    "interactive_plot"
   ]
  },
  {
   "cell_type": "markdown",
   "metadata": {},
   "source": [
    "How would you calculate the apparent rate constant?"
   ]
  },
  {
   "cell_type": "code",
   "execution_count": null,
   "metadata": {},
   "outputs": [],
   "source": []
  },
  {
   "cell_type": "markdown",
   "metadata": {},
   "source": [
    "## Equilibrium concentrations"
   ]
  },
  {
   "cell_type": "code",
   "execution_count": null,
   "metadata": {},
   "outputs": [],
   "source": []
  },
  {
   "cell_type": "code",
   "execution_count": null,
   "metadata": {},
   "outputs": [],
   "source": []
  },
  {
   "cell_type": "markdown",
   "metadata": {},
   "source": [
    "---\n",
    "## Equilibrium constant, *K*\n",
    "The relationship between the equilibrium constant *K* and the rate constants and equilibrium concentrations of the species is:\n",
    "\n",
    "$$ K =  $$"
   ]
  },
  {
   "cell_type": "code",
   "execution_count": null,
   "metadata": {},
   "outputs": [],
   "source": [
    "def K(kA, kB, Aeq, Beq):\n",
    "    K = \n",
    "    return K"
   ]
  },
  {
   "cell_type": "markdown",
   "metadata": {},
   "source": [
    "**What would the equilibrium constant be for a reaction where $k_A = \\frac{3}{4}~k_B$?**"
   ]
  },
  {
   "cell_type": "code",
   "execution_count": null,
   "metadata": {},
   "outputs": [],
   "source": [
    "kA = \n",
    "\n",
    "plt.figure()\n",
    "plt.plot(t, A(kA, kB), label='A')\n",
    "plt.plot(t, B(kA, kB), label='B')\n",
    "\n",
    "plt.legend()\n",
    "plt.ylim(0, 1)\n",
    "plt.xlabel('Time /s', size=14)\n",
    "plt.ylabel('Concentration of species /M', size=14)\n",
    "plt.show()"
   ]
  },
  {
   "cell_type": "code",
   "execution_count": null,
   "metadata": {},
   "outputs": [],
   "source": [
    "Aeq = \n",
    "Beq = \n",
    "K(kA, kB, Aeq, Beq)"
   ]
  },
  {
   "cell_type": "markdown",
   "metadata": {},
   "source": [
    "**If the equilibrium constant for a reaction is 1500, and $k_A = 0.05 s^{-1}$, what is $k_B$?**"
   ]
  },
  {
   "cell_type": "code",
   "execution_count": null,
   "metadata": {},
   "outputs": [],
   "source": []
  },
  {
   "cell_type": "markdown",
   "metadata": {},
   "source": [
    "---\n",
    "## Temperature dependence of K"
   ]
  },
  {
   "cell_type": "code",
   "execution_count": null,
   "metadata": {},
   "outputs": [],
   "source": [
    "R = 8.314\n",
    "T = 298\n",
    "A = 1\n",
    "EA = 200\n",
    "k = A*np.exp(-EA/(R*T))\n",
    "\n",
    "\n",
    "k"
   ]
  },
  {
   "cell_type": "code",
   "execution_count": null,
   "metadata": {},
   "outputs": [],
   "source": []
  }
 ],
 "metadata": {
  "kernelspec": {
   "display_name": "Python 3",
   "language": "python",
   "name": "python3"
  },
  "language_info": {
   "codemirror_mode": {
    "name": "ipython",
    "version": 3
   },
   "file_extension": ".py",
   "mimetype": "text/x-python",
   "name": "python",
   "nbconvert_exporter": "python",
   "pygments_lexer": "ipython3",
   "version": "3.7.6"
  }
 },
 "nbformat": 4,
 "nbformat_minor": 4
}
