{
 "cells": [
  {
   "cell_type": "code",
   "execution_count": 1,
   "metadata": {},
   "outputs": [],
   "source": [
    "from ipywidgets import interact, interactive, fixed, interact_manual\n",
    "import ipywidgets as widgets\n",
    "\n",
    "import numpy as np\n",
    "\n",
    "import matplotlib.pyplot as plt\n",
    "plt.style.use('seaborn-whitegrid')\n",
    "%matplotlib inline"
   ]
  },
  {
   "cell_type": "markdown",
   "metadata": {},
   "source": [
    "*Complete the rate expression for the reaction below by editing this Markdown cell (double-click or Enter).*\n",
    "\n",
    "# Equilibrium reactions\n",
    "For a reaction where reactant A becomes product B but may reform reactants again: \n",
    "$$ A \\overset{k_A}{\\underset{k_B}\\rightleftarrows} B $$\n",
    "\n",
    "The differential rate expressions are:\n",
    "\n",
    "$ \\frac{d[A]}{dt} = -k_A[A] + k_B[B] $\n",
    "\n",
    "$ \\frac{d[B]}{dt} = k_A[A] - k_B[B] $ \n",
    "\n",
    "*(Hint: Both species are being formed and consumed.)*"
   ]
  },
  {
   "cell_type": "markdown",
   "metadata": {},
   "source": [
    "The integrated rate equations for each species is:\n",
    "\n",
    "$$ [A] = [A]_0 \\frac{k_B + k_A e^{-(k_A + k_B)t}}{k_A + k_B} $$\n",
    "\n",
    "$$ [B] = [A]_0 \\left ( 1 - \\frac{k_B + k_A e^{-(k_A + k_B)t}}{k_A + k_B} \\right ) $$"
   ]
  },
  {
   "cell_type": "code",
   "execution_count": 2,
   "metadata": {},
   "outputs": [],
   "source": [
    "# Create time data and initial values\n",
    "t = np.arange(0, 5, 0.05) # numpy creates an array range that is sampled evenly\n",
    "A0 = 1.0 \n",
    "kA = 2\n",
    "kB = 1"
   ]
  },
  {
   "cell_type": "code",
   "execution_count": 4,
   "metadata": {},
   "outputs": [],
   "source": [
    "# Complete the functions calculating the concentration of A and B as per the above equations:\n",
    "def A(A0, kA, kB):\n",
    "    A = A0*(kB+kA*np.exp(-(kA+kB)*t))/(kA + kB)\n",
    "    return A"
   ]
  },
  {
   "cell_type": "code",
   "execution_count": 9,
   "metadata": {},
   "outputs": [],
   "source": [
    "def B(A0, kA, kB):\n",
    "    B = A0*(1-((kB+kA*np.exp(-(kA+kB)*t)) / (kA + kB)))\n",
    "    return B"
   ]
  },
  {
   "cell_type": "markdown",
   "metadata": {},
   "source": [
    "## Plot"
   ]
  },
  {
   "cell_type": "code",
   "execution_count": 6,
   "metadata": {},
   "outputs": [],
   "source": [
    "def equilibrium(kA, kB):\n",
    "    plt.figure()\n",
    "    plt.plot(t, A(A0, kA, kB), label='A')\n",
    "    plt.plot(t, B(A0, kA, kB), label='B')\n",
    "\n",
    "    plt.legend()\n",
    "    plt.ylim(0, 1)\n",
    "    plt.xlabel('Time /s', size=14)\n",
    "    plt.ylabel('Concentration of species /M', size=14)\n",
    "    plt.show()"
   ]
  },
  {
   "cell_type": "code",
   "execution_count": 10,
   "metadata": {},
   "outputs": [
    {
     "data": {
      "application/vnd.jupyter.widget-view+json": {
       "model_id": "705e5bb2650e489daecde15d15b204cb",
       "version_major": 2,
       "version_minor": 0
      },
      "text/plain": [
       "interactive(children=(FloatSlider(value=1.2000000000000002, description='kA', max=2.0, min=0.5), FloatSlider(v…"
      ]
     },
     "metadata": {},
     "output_type": "display_data"
    }
   ],
   "source": [
    "interactive_plot = interactive(equilibrium, kA=(0.5,2,0.1), kB=(0.5,2,0.1))\n",
    "interactive_plot"
   ]
  },
  {
   "cell_type": "markdown",
   "metadata": {},
   "source": [
    "Choose some values for $k_A$ and $k_B$. What is the ratio of $\\frac{k_A}{k_B}$? \n",
    "\n",
    "From the graph determine the equilibrium concentrations of A and B. What is the value of the equilibrium constant, *K*? How is *K* related to the ratio of the rate constants?"
   ]
  },
  {
   "cell_type": "code",
   "execution_count": 11,
   "metadata": {},
   "outputs": [
    {
     "data": {
      "text/plain": [
       "2.0"
      ]
     },
     "execution_count": 11,
     "metadata": {},
     "output_type": "execute_result"
    }
   ],
   "source": [
    "#kA/kB\n",
    "2/1"
   ]
  },
  {
   "cell_type": "code",
   "execution_count": 13,
   "metadata": {},
   "outputs": [
    {
     "data": {
      "text/plain": [
       "2.0"
      ]
     },
     "execution_count": 13,
     "metadata": {},
     "output_type": "execute_result"
    }
   ],
   "source": [
    "#K = \n",
    "0.66/0.33"
   ]
  },
  {
   "cell_type": "markdown",
   "metadata": {},
   "source": [
    "---\n",
    "## Equilibrium constant, *K*\n",
    "The relationship between the equilibrium constant *K* and the rate constants and equilibrium concentrations of the species is:\n",
    "\n",
    "$$ K =  $$"
   ]
  },
  {
   "cell_type": "markdown",
   "metadata": {},
   "source": [
    "If the equilibrium constant for a reaction is 150, and $k_A = 0.05 s^{-1}$, what is $k_B$?"
   ]
  },
  {
   "cell_type": "code",
   "execution_count": 14,
   "metadata": {},
   "outputs": [
    {
     "data": {
      "text/plain": [
       "0.0003333333333333334"
      ]
     },
     "execution_count": 14,
     "metadata": {},
     "output_type": "execute_result"
    }
   ],
   "source": [
    "0.05/150"
   ]
  },
  {
   "cell_type": "markdown",
   "metadata": {},
   "source": [
    "---\n",
    "## Temperature dependence of *K*\n",
    "The Arrhenius equation shows the temperature dependence of the rate constant, *k*:\n",
    "$$ k = Ae^{-E_a/RT} $$\n",
    "\n",
    "Calculate *k* at 298 K and 1000 K. How does the increase in temperature affect the rate constant? Explain why this is the case."
   ]
  },
  {
   "cell_type": "code",
   "execution_count": 19,
   "metadata": {},
   "outputs": [
    {
     "data": {
      "text/plain": [
       "0.9762312252824689"
      ]
     },
     "execution_count": 19,
     "metadata": {},
     "output_type": "execute_result"
    }
   ],
   "source": [
    "R = 8.314\n",
    "A = 1\n",
    "EA = 200       #change\n",
    "T = 1000       #change\n",
    "\n",
    "k = A*np.exp(-EA/(R*T))\n",
    "\n",
    "k"
   ]
  },
  {
   "cell_type": "markdown",
   "metadata": {},
   "source": [
    "*An increase in temperature increases the rate constant. More molecules with sufficient energy to overcome Ea.*"
   ]
  },
  {
   "cell_type": "markdown",
   "metadata": {},
   "source": [
    "Take a reaction with a forward $E_a$ of 50 kJ/mol and reverse $E_a'$ of 200 kJ/mol. Compare the rate constant for both directions at 298 K and 1000 K.  "
   ]
  },
  {
   "cell_type": "code",
   "execution_count": 17,
   "metadata": {},
   "outputs": [
    {
     "data": {
      "text/plain": [
       "1.0142679247408906"
      ]
     },
     "execution_count": 17,
     "metadata": {},
     "output_type": "execute_result"
    }
   ],
   "source": [
    "# Forward\n",
    "0.9940040952447655/0.9800212261456442"
   ]
  },
  {
   "cell_type": "code",
   "execution_count": 20,
   "metadata": {},
   "outputs": [
    {
     "data": {
      "text/plain": [
       "1.058304800759851"
      ]
     },
     "execution_count": 20,
     "metadata": {},
     "output_type": "execute_result"
    }
   ],
   "source": [
    "# Reverse\n",
    "0.9762312252824689/0.9224480741101673"
   ]
  },
  {
   "cell_type": "markdown",
   "metadata": {},
   "source": [
    "Which rate constant changes more with the increase in temperature? Is this an endothermic or exothermic reaction?"
   ]
  },
  {
   "cell_type": "markdown",
   "metadata": {},
   "source": [
    "*Reverse has 5.8% increase vs. forward 1.4% increase. Exothermic because larger Ea for reverse.*"
   ]
  },
  {
   "cell_type": "markdown",
   "metadata": {},
   "source": [
    "How has the equilibrium constant changed with this increase in temperature?"
   ]
  },
  {
   "cell_type": "code",
   "execution_count": 21,
   "metadata": {},
   "outputs": [
    {
     "data": {
      "text/plain": [
       "1.0624134340472384"
      ]
     },
     "execution_count": 21,
     "metadata": {},
     "output_type": "execute_result"
    }
   ],
   "source": [
    "#298 K\n",
    "0.9800212261456442/0.9224480741101673"
   ]
  },
  {
   "cell_type": "code",
   "execution_count": 22,
   "metadata": {},
   "outputs": [
    {
     "data": {
      "text/plain": [
       "1.018205594639891"
      ]
     },
     "execution_count": 22,
     "metadata": {},
     "output_type": "execute_result"
    }
   ],
   "source": [
    "#1000 K\n",
    "0.9940040952447655/0.9762312252824689"
   ]
  },
  {
   "cell_type": "markdown",
   "metadata": {},
   "source": [
    "*The equilibrium constant K has decreased with an increase in temperature, (expected for exothermic reactions).*"
   ]
  }
 ],
 "metadata": {
  "kernelspec": {
   "display_name": "Python 3",
   "language": "python",
   "name": "python3"
  },
  "language_info": {
   "codemirror_mode": {
    "name": "ipython",
    "version": 3
   },
   "file_extension": ".py",
   "mimetype": "text/x-python",
   "name": "python",
   "nbconvert_exporter": "python",
   "pygments_lexer": "ipython3",
   "version": "3.7.6"
  }
 },
 "nbformat": 4,
 "nbformat_minor": 4
}
