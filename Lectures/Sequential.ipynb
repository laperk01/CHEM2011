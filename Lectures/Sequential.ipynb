{
 "cells": [
  {
   "cell_type": "code",
   "execution_count": 1,
   "metadata": {},
   "outputs": [],
   "source": [
    "from ipywidgets import interact, interactive, fixed, interact_manual\n",
    "import ipywidgets as widgets\n",
    "\n",
    "import numpy as np\n",
    "\n",
    "import matplotlib.pyplot as plt\n",
    "plt.style.use('seaborn-whitegrid')\n",
    "%matplotlib inline"
   ]
  },
  {
   "cell_type": "markdown",
   "metadata": {},
   "source": [
    "*Complete the rate expression for the intermediate below by editing this Markdown cell (double-click or Enter).*\n",
    "\n",
    "# Sequential reactions\n",
    "For a sequential reaction where reactant A becomes product P by forming an intermediate I: \n",
    "$$A \\overset{k_A}{\\rightarrow} I \\overset{k_I}{\\rightarrow} P$$\n",
    "\n",
    "The differential rate expressions are:\n",
    "\n",
    "$ \\frac{d[A]}{dt} = -k_A[A] $\n",
    "\n",
    "$ \\frac{d[I]}{dt} = ? $ *(Hint: The intermediate is involved with both the decay of A and the formation of P.)*\n",
    "\n",
    "$ \\frac{d[P]}{dt} = k_I[I] $"
   ]
  },
  {
   "cell_type": "markdown",
   "metadata": {},
   "source": [
    "The integrated rate equations for each species is:\n",
    "\n",
    "$$ [A] = [A]_0 e^{-k_At} $$\n",
    "\n",
    "$$ [I] = \\frac{k_A}{k_I - k_A}(e^{-k_A t} - e^{-k_I t})[A]_0 $$\n",
    "\n",
    "$$ [P] = \\left ( \\frac{k_A e^{-k_I t} - k_I e^{-k_A t}}{k_I - k_A} + 1 \\right ) [A]_0 $$"
   ]
  },
  {
   "cell_type": "code",
   "execution_count": 2,
   "metadata": {},
   "outputs": [],
   "source": [
    "def A(kA):\n",
    "    A = A0*np.exp(-kA*t)\n",
    "    return A"
   ]
  },
  {
   "cell_type": "code",
   "execution_count": 3,
   "metadata": {},
   "outputs": [],
   "source": [
    "def I(kA, kI):\n",
    "    I = kA/(kI - kA)*(np.exp(-kA*t) - np.exp(-kI*t))*A0\n",
    "    return I"
   ]
  },
  {
   "cell_type": "code",
   "execution_count": 4,
   "metadata": {},
   "outputs": [],
   "source": [
    "def P(kA, kI):\n",
    "    P = ((kA*np.exp(-kI*t) - kI*np.exp(-kA*t)) / (kI - kA) + 1 )*A0\n",
    "    return P"
   ]
  },
  {
   "cell_type": "code",
   "execution_count": 5,
   "metadata": {},
   "outputs": [],
   "source": [
    "# Create time data and initial values\n",
    "t = np.arange(0, 5, 0.1) # numpy creates an array range that is sampled evenly\n",
    "A0 = 1.0 \n",
    "kA = 1\n",
    "kI = 1"
   ]
  },
  {
   "cell_type": "markdown",
   "metadata": {},
   "source": [
    "## Case 1: $k_A > k_I$"
   ]
  },
  {
   "cell_type": "code",
   "execution_count": 6,
   "metadata": {},
   "outputs": [],
   "source": [
    "def seq(kA, kI):\n",
    "    plt.figure()\n",
    "    plt.plot(t, A(kA), label='A')\n",
    "    plt.plot(t, I(kA, kI), label='I')\n",
    "    plt.plot(t, P(kA, kI), label='P')\n",
    "\n",
    "    plt.legend()\n",
    "    plt.ylim(0, 1)\n",
    "    plt.xlabel('Time /s', size=14)\n",
    "    plt.ylabel('Concentration of species /M', size=14)\n",
    "    plt.show()"
   ]
  },
  {
   "cell_type": "code",
   "execution_count": 7,
   "metadata": {},
   "outputs": [
    {
     "data": {
      "application/vnd.jupyter.widget-view+json": {
       "model_id": "9424ffc64a25477d859cecc6133cbf80",
       "version_major": 2,
       "version_minor": 0
      },
      "text/plain": [
       "interactive(children=(IntSlider(value=10, description='kA', max=20, min=2, step=2), Output()), _dom_classes=('…"
      ]
     },
     "metadata": {},
     "output_type": "display_data"
    }
   ],
   "source": [
    "interactive_plot = interactive(seq, kA=(2,20,2), kI=fixed(1))\n",
    "interactive_plot"
   ]
  },
  {
   "cell_type": "markdown",
   "metadata": {},
   "source": [
    "**When $k_A > k_I$ how does changing $k_A$ affect [I]?**"
   ]
  },
  {
   "cell_type": "markdown",
   "metadata": {},
   "source": []
  },
  {
   "cell_type": "markdown",
   "metadata": {},
   "source": [
    "---\n",
    "## Case 2: $k_I > k_A$"
   ]
  },
  {
   "cell_type": "code",
   "execution_count": null,
   "metadata": {},
   "outputs": [],
   "source": [
    "interactive_plot = interactive(seq, kA=fixed(1), kI=(2,20,2))\n",
    "interactive_plot"
   ]
  },
  {
   "cell_type": "markdown",
   "metadata": {},
   "source": [
    "**When $k_I > k_A$ how does changing $k_I$ affect [I]?**"
   ]
  },
  {
   "cell_type": "markdown",
   "metadata": {},
   "source": []
  },
  {
   "cell_type": "markdown",
   "metadata": {},
   "source": [
    "---\n",
    "**Predict the plots when $k_A = k_I$**"
   ]
  },
  {
   "cell_type": "markdown",
   "metadata": {},
   "source": []
  },
  {
   "cell_type": "markdown",
   "metadata": {},
   "source": [
    "---\n",
    "## Maximum intermediate concentration\n",
    "Write the code to predict when an intermediate will reach maximum concentration during a reaction:\n",
    "\n",
    "$$ t_{max} = \\frac{1}{k_A - k_I} ln \\left ( \\frac{k_A}{k_I} \\right ) $$"
   ]
  },
  {
   "cell_type": "code",
   "execution_count": null,
   "metadata": {},
   "outputs": [],
   "source": [
    "def t_max(kA, kI):\n",
    "    tmax = # Hint: ln is np.log\n",
    "    return tmax"
   ]
  },
  {
   "cell_type": "markdown",
   "metadata": {},
   "source": [
    "Does it give you a value you expect? You can check using the plots above."
   ]
  }
 ],
 "metadata": {
  "kernelspec": {
   "display_name": "Python 3",
   "language": "python",
   "name": "python3"
  },
  "language_info": {
   "codemirror_mode": {
    "name": "ipython",
    "version": 3
   },
   "file_extension": ".py",
   "mimetype": "text/x-python",
   "name": "python",
   "nbconvert_exporter": "python",
   "pygments_lexer": "ipython3",
   "version": "3.7.6"
  }
 },
 "nbformat": 4,
 "nbformat_minor": 4
}
