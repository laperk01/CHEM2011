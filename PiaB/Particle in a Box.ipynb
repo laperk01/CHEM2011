{
 "cells": [
  {
   "cell_type": "markdown",
   "metadata": {},
   "source": [
    "# Particle in a Box QS1\n",
    "[![Binder](https://mybinder.org/badge_logo.svg)](https://mybinder.org/v2/gh/laperk01/CHEM2011/master)"
   ]
  },
  {
   "cell_type": "markdown",
   "metadata": {},
   "source": [
    "## Setting up\n",
    "Start with pandas, matplotlib and numpy:"
   ]
  },
  {
   "cell_type": "code",
   "execution_count": 1,
   "metadata": {},
   "outputs": [],
   "source": [
    "import pandas as pd\n",
    "import matplotlib.pyplot as plt\n",
    "import numpy as np\n",
    "%matplotlib inline\n",
    "plt.style.use('seaborn-whitegrid')"
   ]
  },
  {
   "cell_type": "markdown",
   "metadata": {},
   "source": [
    "Import the data using pandas [read_csv](https://pandas.pydata.org/pandas-docs/stable/user_guide/io.html#csv-text-files):"
   ]
  },
  {
   "cell_type": "code",
   "execution_count": 2,
   "metadata": {},
   "outputs": [],
   "source": [
    "dyeA = pd.read_csv('Data/DyeA.txt', \n",
    "                   delimiter='\\t',   #tab delimited\n",
    "                   skiprows=17,      #ignore metadata at top of file\n",
    "                   names=['Dye A'],  #name the absorption data column \n",
    "                   index_col=0,      #make the wavelength the index column\n",
    "                   skipfooter=1,     #ignore the last line of data\n",
    "                   engine='python')  #for skipfooter"
   ]
  },
  {
   "cell_type": "code",
   "execution_count": 3,
   "metadata": {},
   "outputs": [],
   "source": [
    "dyeB = pd.read_csv('Data/DyeB.txt', \n",
    "                   delimiter='\\t', \n",
    "                   skiprows=17, \n",
    "                   names=['Dye B'], \n",
    "                   index_col=0,\n",
    "                   skipfooter=1, \n",
    "                   engine='python')"
   ]
  },
  {
   "cell_type": "code",
   "execution_count": 4,
   "metadata": {},
   "outputs": [],
   "source": [
    "dyeC = pd.read_csv('Data/DyeC.txt', \n",
    "                   delimiter='\\t', \n",
    "                   skiprows=17, \n",
    "                   names=['Dye C'], \n",
    "                   index_col=0,\n",
    "                   skipfooter=1, \n",
    "                   engine='python')"
   ]
  },
  {
   "cell_type": "markdown",
   "metadata": {},
   "source": [
    "Combine the data files into one dataframe (table) using pandas [concat](https://pandas.pydata.org/pandas-docs/stable/user_guide/merging.html):"
   ]
  },
  {
   "cell_type": "code",
   "execution_count": 5,
   "metadata": {},
   "outputs": [
    {
     "data": {
      "text/html": [
       "<div>\n",
       "<style scoped>\n",
       "    .dataframe tbody tr th:only-of-type {\n",
       "        vertical-align: middle;\n",
       "    }\n",
       "\n",
       "    .dataframe tbody tr th {\n",
       "        vertical-align: top;\n",
       "    }\n",
       "\n",
       "    .dataframe thead th {\n",
       "        text-align: right;\n",
       "    }\n",
       "</style>\n",
       "<table border=\"1\" class=\"dataframe\">\n",
       "  <thead>\n",
       "    <tr style=\"text-align: right;\">\n",
       "      <th></th>\n",
       "      <th>Dye A</th>\n",
       "      <th>Dye B</th>\n",
       "      <th>Dye C</th>\n",
       "    </tr>\n",
       "  </thead>\n",
       "  <tbody>\n",
       "    <tr>\n",
       "      <th>200.0</th>\n",
       "      <td>0.270</td>\n",
       "      <td>0.420</td>\n",
       "      <td>0.633</td>\n",
       "    </tr>\n",
       "    <tr>\n",
       "      <th>201.0</th>\n",
       "      <td>0.136</td>\n",
       "      <td>0.205</td>\n",
       "      <td>0.431</td>\n",
       "    </tr>\n",
       "    <tr>\n",
       "      <th>202.0</th>\n",
       "      <td>0.274</td>\n",
       "      <td>0.272</td>\n",
       "      <td>1.324</td>\n",
       "    </tr>\n",
       "    <tr>\n",
       "      <th>203.0</th>\n",
       "      <td>0.315</td>\n",
       "      <td>0.612</td>\n",
       "      <td>0.783</td>\n",
       "    </tr>\n",
       "    <tr>\n",
       "      <th>204.0</th>\n",
       "      <td>0.175</td>\n",
       "      <td>0.366</td>\n",
       "      <td>0.835</td>\n",
       "    </tr>\n",
       "    <tr>\n",
       "      <th>205.0</th>\n",
       "      <td>0.225</td>\n",
       "      <td>0.257</td>\n",
       "      <td>0.828</td>\n",
       "    </tr>\n",
       "    <tr>\n",
       "      <th>206.0</th>\n",
       "      <td>0.157</td>\n",
       "      <td>0.518</td>\n",
       "      <td>0.895</td>\n",
       "    </tr>\n",
       "    <tr>\n",
       "      <th>207.0</th>\n",
       "      <td>0.319</td>\n",
       "      <td>0.696</td>\n",
       "      <td>0.465</td>\n",
       "    </tr>\n",
       "    <tr>\n",
       "      <th>208.0</th>\n",
       "      <td>0.085</td>\n",
       "      <td>0.147</td>\n",
       "      <td>0.482</td>\n",
       "    </tr>\n",
       "    <tr>\n",
       "      <th>209.0</th>\n",
       "      <td>0.280</td>\n",
       "      <td>0.293</td>\n",
       "      <td>0.451</td>\n",
       "    </tr>\n",
       "  </tbody>\n",
       "</table>\n",
       "</div>"
      ],
      "text/plain": [
       "       Dye A  Dye B  Dye C\n",
       "200.0  0.270  0.420  0.633\n",
       "201.0  0.136  0.205  0.431\n",
       "202.0  0.274  0.272  1.324\n",
       "203.0  0.315  0.612  0.783\n",
       "204.0  0.175  0.366  0.835\n",
       "205.0  0.225  0.257  0.828\n",
       "206.0  0.157  0.518  0.895\n",
       "207.0  0.319  0.696  0.465\n",
       "208.0  0.085  0.147  0.482\n",
       "209.0  0.280  0.293  0.451"
      ]
     },
     "execution_count": 5,
     "metadata": {},
     "output_type": "execute_result"
    }
   ],
   "source": [
    "all_dyes = pd.concat([dyeA, dyeB, dyeC], axis=1, join='outer')\n",
    "all_dyes.head(10) #shows the first 10 rows of the dataframe, tail() would show the last rows of data"
   ]
  },
  {
   "cell_type": "markdown",
   "metadata": {},
   "source": [
    "## Results\n",
    "Let's plot the dyes on the same figure using [pandas](https://pandas.pydata.org/pandas-docs/stable/user_guide/visualization.html) and Matplotlib:"
   ]
  },
  {
   "cell_type": "code",
   "execution_count": 6,
   "metadata": {},
   "outputs": [
    {
     "data": {
      "text/plain": [
       "<Figure size 432x288 with 0 Axes>"
      ]
     },
     "metadata": {},
     "output_type": "display_data"
    },
    {
     "data": {
      "image/png": "[encoded data removed]",
      "text/plain": [
       "<Figure size 432x288 with 1 Axes>"
      ]
     },
     "metadata": {},
     "output_type": "display_data"
    }
   ],
   "source": [
    "colours = ['r', 'b', 'c'] #use red, blue and cyan\n",
    "\n",
    "plt.figure()\n",
    "all_dyes.plot(xlim=[200,800], title='Absorbance for Dyes A, B and C', color=colours)\n",
    "plt.xlabel('Wavelength /nm')\n",
    "plt.ylabel('Absorption')\n",
    "\n",
    "plt.savefig('Dyes_absorption.png', dpi=150)  # Save the figure"
   ]
  },
  {
   "cell_type": "markdown",
   "metadata": {},
   "source": [
    "## Analysis\n",
    "First let's create a [dictionary](https://docs.python.org/3/tutorial/datastructures.html#dictionaries) for each dye so we can use these values later:"
   ]
  },
  {
   "cell_type": "code",
   "execution_count": 7,
   "metadata": {},
   "outputs": [],
   "source": [
    "dyeA = {}\n",
    "dyeB = {}\n",
    "dyeC = {}\n",
    "dye_list = [dyeA, dyeB, dyeC]"
   ]
  },
  {
   "cell_type": "markdown",
   "metadata": {},
   "source": [
    "Next determine the wavelengths of the maximum absorbance of the longest-wavelength peak $\\lambda_{max}$ and maximum absorbance $A_{max}$. Pandas can quickly determine the [maximum](https://pandas.pydata.org/pandas-docs/stable/reference/api/pandas.DataFrame.max.html?highlight=max#pandas.DataFrame.max) value and its wavelength.\n",
    "Using Python [for loops](https://wiki.python.org/moin/ForLoop) this information can quickly be assigned to the dictionaries for each dye:"
   ]
  },
  {
   "cell_type": "code",
   "execution_count": 8,
   "metadata": {},
   "outputs": [
    {
     "data": {
      "text/plain": [
       "({'Max Wavelength': 523.0, 'Max Absorbance': 0.784, 'Concentration': 1},\n",
       " {'Max Wavelength': 604.0,\n",
       "  'Max Absorbance': 0.9059999999999999,\n",
       "  'Concentration': 1},\n",
       " {'Max Wavelength': 202.0, 'Max Absorbance': 1.324, 'Concentration': 1})"
      ]
     },
     "execution_count": 8,
     "metadata": {},
     "output_type": "execute_result"
    }
   ],
   "source": [
    "for i,dye in enumerate(all_dyes):                             #loop over each dye\n",
    "    dye_list[i]['Max Wavelength'] = all_dyes[dye].idxmax()    #Index of maximum value i.e. wavelength \n",
    "    dye_list[i]['Max Absorbance'] = all_dyes[dye].max()       #Maximum value i.e. absorbance\n",
    "    dye_list[i]['Concentration'] = 1                          #We'll change this later\n",
    "\n",
    "dyeA, dyeB, dyeC"
   ]
  },
  {
   "cell_type": "markdown",
   "metadata": {},
   "source": [
    "Who noticed that the wavelength max for Dye C isn't where we expected? The noise at the start of the data has a larger absorbance (not a sign of a good spectroscopist!) than the signal, so limit the range over which the maximum is searched to 400 nm upwards:\n",
    "\n",
    "https://pandas.pydata.org/pandas-docs/stable/user_guide/indexing.html#slicing-ranges"
   ]
  },
  {
   "cell_type": "code",
   "execution_count": 9,
   "metadata": {},
   "outputs": [
    {
     "data": {
      "text/plain": [
       "(706.0, 1.222)"
      ]
     },
     "execution_count": 9,
     "metadata": {},
     "output_type": "execute_result"
    }
   ],
   "source": [
    "all_dyes['Dye C'][400:].idxmax(), all_dyes['Dye C'][400:].max() #slicing the data from 400 nm onwards i.e. [400:]"
   ]
  },
  {
   "cell_type": "markdown",
   "metadata": {},
   "source": [
    "That's more like it! Now let's add that and the actual dye concentrations to the dictionary:"
   ]
  },
  {
   "cell_type": "code",
   "execution_count": 10,
   "metadata": {},
   "outputs": [
    {
     "data": {
      "text/plain": [
       "({'Max Wavelength': 523.0, 'Max Absorbance': 0.784, 'Concentration': 1e-05},\n",
       " {'Max Wavelength': 604.0,\n",
       "  'Max Absorbance': 0.9059999999999999,\n",
       "  'Concentration': 7.5e-06},\n",
       " {'Max Wavelength': 706.0, 'Max Absorbance': 1.222, 'Concentration': 5e-06})"
      ]
     },
     "execution_count": 10,
     "metadata": {},
     "output_type": "execute_result"
    }
   ],
   "source": [
    "dyeC['Max Wavelength'] = all_dyes['Dye C'][400:].idxmax()\n",
    "dyeC['Max Absorbance'] = all_dyes['Dye C'][400:].max()\n",
    "\n",
    "dyeA['Concentration'] = 1e-5\n",
    "dyeB['Concentration'] = 0.75e-5\n",
    "dyeC['Concentration'] = 0.5e-5\n",
    "\n",
    "dyeA, dyeB, dyeC"
   ]
  },
  {
   "cell_type": "markdown",
   "metadata": {},
   "source": [
    "## Calculations\n",
    "\n",
    "### Applying the particle-in-a-box model to estimate $L$\n",
    "Beer's law relates the absorbance $A$ to $c$ the concentration (mol L$^{–1}$) of the absorbing species, $l$ the pathlength of the cuvette in cm and ε the molar absorption coefficient (the conventional units of ε are L mol$^{–1}$ cm$^{–1}$): \n",
    "\n",
    "$$A = ε c l$$\n",
    "\n",
    "For each dye use Beer's law to calculate the molar absorption coefficient at $\\lambda_{max}$:"
   ]
  },
  {
   "cell_type": "code",
   "execution_count": 12,
   "metadata": {},
   "outputs": [
    {
     "name": "stdout",
     "output_type": "stream",
     "text": [
      "ε: 78400.0\n",
      "ε: 120799.99999999999\n",
      "ε: 244399.99999999997\n"
     ]
    }
   ],
   "source": [
    "l = 1 #pathlength\n",
    "\n",
    "for dye in dye_list:\n",
    "    A = dye['Max Absorbance']\n",
    "    c = dye['Concentration']\n",
    "    molar_abs_coef = A/(c*l)\n",
    "    dye['Molar absorption coefficient'] = molar_abs_coef\n",
    "    \n",
    "    print('ε:', molar_abs_coef)"
   ]
  },
  {
   "cell_type": "markdown",
   "metadata": {},
   "source": [
    "Calculate the frequency of light absorbed at $\\lambda_{max}$ from $c = \\nu \\lambda$, then calculate $\\Delta E$ from $\\nu$ using the Planck equation $\\Delta E = h \\nu$.\n",
    "\n",
    "[Scipy](https://docs.scipy.org/doc/scipy/reference/constants.html) has scientific constants ready to use so let's import them!"
   ]
  },
  {
   "cell_type": "code",
   "execution_count": 14,
   "metadata": {},
   "outputs": [
    {
     "name": "stdout",
     "output_type": "stream",
     "text": [
      "Frequency:  573216936902485.6 \n",
      "Energy change:  3.7981756350839933e-19\n",
      "---\n",
      "Frequency:  496345129139072.8 \n",
      "Energy change:  3.2888176442863053e-19\n",
      "---\n",
      "Frequency:  424635209631728.06 \n",
      "Energy change:  2.8136626871797857e-19\n",
      "---\n"
     ]
    }
   ],
   "source": [
    "from scipy import constants\n",
    "\n",
    "#dyeA['Frequency'] = constants.c/dyeA['Max Wavelength']\n",
    "#dyeA['dEnergy'] = constants.h*dyeA['Frequency']\n",
    "#dyeA['Frequency'], dyeA['dEnergy']\n",
    "\n",
    "for dye in dye_list:\n",
    "    dye['Frequency'] = constants.c/(dye['Max Wavelength']*1e-9)\n",
    "    dye['dEnergy'] = constants.h*dye['Frequency']\n",
    "    \n",
    "    print('Frequency: ', dye['Frequency'], '\\nEnergy change: ', dye['dEnergy'])\n",
    "    print(\"---\")"
   ]
  },
  {
   "cell_type": "markdown",
   "metadata": {},
   "source": [
    "Write down the number of carbon atoms in the N-C-...-C-N chain ($p$), and the number of $\\pi$ electrons ($N = p + 3$):"
   ]
  },
  {
   "cell_type": "code",
   "execution_count": 15,
   "metadata": {},
   "outputs": [],
   "source": [
    "# Carbon atoms:\n",
    "dyeA['p'] = 3\n",
    "dyeB['p'] = 5\n",
    "dyeC['p'] = 7"
   ]
  },
  {
   "cell_type": "code",
   "execution_count": 16,
   "metadata": {},
   "outputs": [],
   "source": [
    "# pi electrons:\n",
    "dyeA['N'] = 6\n",
    "dyeB['N'] = 8\n",
    "dyeC['N'] = 10"
   ]
  },
  {
   "cell_type": "markdown",
   "metadata": {},
   "source": [
    "Use equation 2 with $∆E$ and $N$ to calculate $C$:\n",
    "$$\n",
    "\\Delta E = C(n_2^2 − n_1^2) \\\\\n",
    "C\\left (\\left (\\frac{N}{2}+1 \\right )^2 - \\left (\\frac{N}{2}\\right )^2\\right ) \\\\\n",
    "= C(N+1)\n",
    "$$"
   ]
  },
  {
   "cell_type": "code",
   "execution_count": 18,
   "metadata": {},
   "outputs": [
    {
     "name": "stdout",
     "output_type": "stream",
     "text": [
      "5.425965192977133e-20\n",
      "3.654241826984784e-20\n",
      "2.5578751701634415e-20\n"
     ]
    }
   ],
   "source": [
    "for dye in dye_list:\n",
    "    dye['C'] = dye['dEnergy']/(dye['N']+1)\n",
    "    \n",
    "    print(dye['C'])"
   ]
  },
  {
   "cell_type": "markdown",
   "metadata": {},
   "source": [
    "From *C* calculate the length over which the $\\pi$ electrons are delocalised according to the particle-in-a-box model used here."
   ]
  },
  {
   "cell_type": "code",
   "execution_count": 19,
   "metadata": {},
   "outputs": [
    {
     "name": "stdout",
     "output_type": "stream",
     "text": [
      "1.053726825594447  nm\n",
      "1.2840084918664523  nm\n",
      "1.5347119157032734  nm\n"
     ]
    }
   ],
   "source": [
    "for dye in dye_list:\n",
    "    dye['L'] = np.sqrt(constants.h**2/(8*constants.m_e*dye['C']))\n",
    "    \n",
    "    print(dye['L']*1e9, ' nm')"
   ]
  },
  {
   "cell_type": "markdown",
   "metadata": {},
   "source": [
    "Tabulate all the data:"
   ]
  },
  {
   "cell_type": "code",
   "execution_count": 20,
   "metadata": {},
   "outputs": [
    {
     "data": {
      "text/html": [
       "<style  type=\"text/css\" >\n",
       "</style><table id=\"T_92a0f28c_a0bb_11ea_b07a_cd1fb92009f6\" ><thead>    <tr>        <th class=\"blank level0\" ></th>        <th class=\"col_heading level0 col0\" >Max Wavelength</th>        <th class=\"col_heading level0 col1\" >Max Absorbance</th>        <th class=\"col_heading level0 col2\" >Concentration</th>        <th class=\"col_heading level0 col3\" >Molar absorption coefficient</th>        <th class=\"col_heading level0 col4\" >Frequency</th>        <th class=\"col_heading level0 col5\" >dEnergy</th>        <th class=\"col_heading level0 col6\" >p</th>        <th class=\"col_heading level0 col7\" >N</th>        <th class=\"col_heading level0 col8\" >C</th>        <th class=\"col_heading level0 col9\" >L</th>    </tr></thead><tbody>\n",
       "                <tr>\n",
       "                        <th id=\"T_92a0f28c_a0bb_11ea_b07a_cd1fb92009f6level0_row0\" class=\"row_heading level0 row0\" >Dye A</th>\n",
       "                        <td id=\"T_92a0f28c_a0bb_11ea_b07a_cd1fb92009f6row0_col0\" class=\"data row0 col0\" >523</td>\n",
       "                        <td id=\"T_92a0f28c_a0bb_11ea_b07a_cd1fb92009f6row0_col1\" class=\"data row0 col1\" >0.784</td>\n",
       "                        <td id=\"T_92a0f28c_a0bb_11ea_b07a_cd1fb92009f6row0_col2\" class=\"data row0 col2\" >1e-05</td>\n",
       "                        <td id=\"T_92a0f28c_a0bb_11ea_b07a_cd1fb92009f6row0_col3\" class=\"data row0 col3\" >7.84e+04</td>\n",
       "                        <td id=\"T_92a0f28c_a0bb_11ea_b07a_cd1fb92009f6row0_col4\" class=\"data row0 col4\" >5.73e+14</td>\n",
       "                        <td id=\"T_92a0f28c_a0bb_11ea_b07a_cd1fb92009f6row0_col5\" class=\"data row0 col5\" >3.8e-19</td>\n",
       "                        <td id=\"T_92a0f28c_a0bb_11ea_b07a_cd1fb92009f6row0_col6\" class=\"data row0 col6\" >3</td>\n",
       "                        <td id=\"T_92a0f28c_a0bb_11ea_b07a_cd1fb92009f6row0_col7\" class=\"data row0 col7\" >6</td>\n",
       "                        <td id=\"T_92a0f28c_a0bb_11ea_b07a_cd1fb92009f6row0_col8\" class=\"data row0 col8\" >5.43e-20</td>\n",
       "                        <td id=\"T_92a0f28c_a0bb_11ea_b07a_cd1fb92009f6row0_col9\" class=\"data row0 col9\" >1.05e-09</td>\n",
       "            </tr>\n",
       "            <tr>\n",
       "                        <th id=\"T_92a0f28c_a0bb_11ea_b07a_cd1fb92009f6level0_row1\" class=\"row_heading level0 row1\" >Dye B</th>\n",
       "                        <td id=\"T_92a0f28c_a0bb_11ea_b07a_cd1fb92009f6row1_col0\" class=\"data row1 col0\" >604</td>\n",
       "                        <td id=\"T_92a0f28c_a0bb_11ea_b07a_cd1fb92009f6row1_col1\" class=\"data row1 col1\" >0.906</td>\n",
       "                        <td id=\"T_92a0f28c_a0bb_11ea_b07a_cd1fb92009f6row1_col2\" class=\"data row1 col2\" >7.5e-06</td>\n",
       "                        <td id=\"T_92a0f28c_a0bb_11ea_b07a_cd1fb92009f6row1_col3\" class=\"data row1 col3\" >1.21e+05</td>\n",
       "                        <td id=\"T_92a0f28c_a0bb_11ea_b07a_cd1fb92009f6row1_col4\" class=\"data row1 col4\" >4.96e+14</td>\n",
       "                        <td id=\"T_92a0f28c_a0bb_11ea_b07a_cd1fb92009f6row1_col5\" class=\"data row1 col5\" >3.29e-19</td>\n",
       "                        <td id=\"T_92a0f28c_a0bb_11ea_b07a_cd1fb92009f6row1_col6\" class=\"data row1 col6\" >5</td>\n",
       "                        <td id=\"T_92a0f28c_a0bb_11ea_b07a_cd1fb92009f6row1_col7\" class=\"data row1 col7\" >8</td>\n",
       "                        <td id=\"T_92a0f28c_a0bb_11ea_b07a_cd1fb92009f6row1_col8\" class=\"data row1 col8\" >3.65e-20</td>\n",
       "                        <td id=\"T_92a0f28c_a0bb_11ea_b07a_cd1fb92009f6row1_col9\" class=\"data row1 col9\" >1.28e-09</td>\n",
       "            </tr>\n",
       "            <tr>\n",
       "                        <th id=\"T_92a0f28c_a0bb_11ea_b07a_cd1fb92009f6level0_row2\" class=\"row_heading level0 row2\" >Dye C</th>\n",
       "                        <td id=\"T_92a0f28c_a0bb_11ea_b07a_cd1fb92009f6row2_col0\" class=\"data row2 col0\" >706</td>\n",
       "                        <td id=\"T_92a0f28c_a0bb_11ea_b07a_cd1fb92009f6row2_col1\" class=\"data row2 col1\" >1.22</td>\n",
       "                        <td id=\"T_92a0f28c_a0bb_11ea_b07a_cd1fb92009f6row2_col2\" class=\"data row2 col2\" >5e-06</td>\n",
       "                        <td id=\"T_92a0f28c_a0bb_11ea_b07a_cd1fb92009f6row2_col3\" class=\"data row2 col3\" >2.44e+05</td>\n",
       "                        <td id=\"T_92a0f28c_a0bb_11ea_b07a_cd1fb92009f6row2_col4\" class=\"data row2 col4\" >4.25e+14</td>\n",
       "                        <td id=\"T_92a0f28c_a0bb_11ea_b07a_cd1fb92009f6row2_col5\" class=\"data row2 col5\" >2.81e-19</td>\n",
       "                        <td id=\"T_92a0f28c_a0bb_11ea_b07a_cd1fb92009f6row2_col6\" class=\"data row2 col6\" >7</td>\n",
       "                        <td id=\"T_92a0f28c_a0bb_11ea_b07a_cd1fb92009f6row2_col7\" class=\"data row2 col7\" >10</td>\n",
       "                        <td id=\"T_92a0f28c_a0bb_11ea_b07a_cd1fb92009f6row2_col8\" class=\"data row2 col8\" >2.56e-20</td>\n",
       "                        <td id=\"T_92a0f28c_a0bb_11ea_b07a_cd1fb92009f6row2_col9\" class=\"data row2 col9\" >1.53e-09</td>\n",
       "            </tr>\n",
       "    </tbody></table>"
      ],
      "text/plain": [
       "<pandas.io.formats.style.Styler at 0x7feff6aa0e90>"
      ]
     },
     "execution_count": 20,
     "metadata": {},
     "output_type": "execute_result"
    }
   ],
   "source": [
    "final_table = pd.DataFrame.from_dict([dyeA, dyeB, dyeC])\n",
    "final_table.index = ['Dye A', 'Dye B', 'Dye C']\n",
    "final_table.style.format(\"{:.3g}\")"
   ]
  },
  {
   "cell_type": "code",
   "execution_count": null,
   "metadata": {},
   "outputs": [],
   "source": [
    "plt.figure()\n",
    "all_dyes.plot(xlim=[200,800], title='Absorbance for Dyes A, B and C', color=colours)\n",
    "plt.xlabel('Wavelength /nm')\n",
    "plt.ylabel('Absorption')\n",
    "\n",
    "plt.savefig('Dyes_absorption.png', dpi=150)  # Save the figure"
   ]
  }
 ],
 "metadata": {
  "anaconda-cloud": {},
  "kernelspec": {
   "display_name": "Python 3",
   "language": "python",
   "name": "python3"
  },
  "language_info": {
   "codemirror_mode": {
    "name": "ipython",
    "version": 3
   },
   "file_extension": ".py",
   "mimetype": "text/x-python",
   "name": "python",
   "nbconvert_exporter": "python",
   "pygments_lexer": "ipython3",
   "version": "3.7.6"
  }
 },
 "nbformat": 4,
 "nbformat_minor": 4
}
