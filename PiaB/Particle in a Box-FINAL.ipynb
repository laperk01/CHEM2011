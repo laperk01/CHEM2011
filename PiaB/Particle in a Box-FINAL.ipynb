{
 "cells": [
  {
   "cell_type": "markdown",
   "metadata": {},
   "source": [
    "# Particle in a Box QS1"
   ]
  },
  {
   "cell_type": "markdown",
   "metadata": {},
   "source": [
    "## Setting up\n",
    "Start with importing the pandas, matplotlib and numpy libraries:"
   ]
  },
  {
   "cell_type": "code",
   "execution_count": null,
   "metadata": {},
   "outputs": [],
   "source": [
    "import pandas as pd\n",
    "import matplotlib.pyplot as plt\n",
    "import numpy as np\n",
    "%matplotlib inline\n",
    "plt.style.use('seaborn-whitegrid')"
   ]
  },
  {
   "cell_type": "markdown",
   "metadata": {},
   "source": [
    "**Make sure the data files are uploaded.** Import the data using pandas [read_csv](https://pandas.pydata.org/pandas-docs/stable/user_guide/io.html#csv-text-files):"
   ]
  },
  {
   "cell_type": "code",
   "execution_count": null,
   "metadata": {},
   "outputs": [],
   "source": [
    "dyeA = pd.read_csv('DyeA.txt', \n",
    "                   delimiter='\\t',   #tab delimited\n",
    "                   skiprows=17,      #ignore metadata at top of file\n",
    "                   names=['Dye A'],  #name the absorption data column \n",
    "                   index_col=0,      #make the wavelength the index column\n",
    "                   skipfooter=1,     #ignore the last line of data\n",
    "                   engine='python')  #for skipfooter"
   ]
  },
  {
   "cell_type": "markdown",
   "metadata": {},
   "source": [
    "Repeat for the other dyes: (Remember to update the filename and column name)"
   ]
  },
  {
   "cell_type": "code",
   "execution_count": null,
   "metadata": {},
   "outputs": [],
   "source": [
    "dyeB = "
   ]
  },
  {
   "cell_type": "code",
   "execution_count": null,
   "metadata": {},
   "outputs": [],
   "source": [
    "dyeC = "
   ]
  },
  {
   "cell_type": "markdown",
   "metadata": {},
   "source": [
    "Combine the data files into one dataframe (table) using pandas [concat](https://pandas.pydata.org/pandas-docs/stable/user_guide/merging.html):"
   ]
  },
  {
   "cell_type": "code",
   "execution_count": null,
   "metadata": {},
   "outputs": [],
   "source": [
    "all_dyes = pd.concat([dyeA, dyeB, dyeC], axis=1, join='outer')\n",
    "all_dyes.head(10) #shows the first 10 rows of the dataframe, tail() would show the last rows of data"
   ]
  },
  {
   "cell_type": "markdown",
   "metadata": {},
   "source": [
    "## Results\n",
    "Let's plot the dyes on the same figure using [pandas](https://pandas.pydata.org/pandas-docs/stable/user_guide/visualization.html) and Matplotlib. **Choose an appropriate wavelength range to plot and update the title with your zID.**"
   ]
  },
  {
   "cell_type": "code",
   "execution_count": null,
   "metadata": {},
   "outputs": [],
   "source": [
    "colours = ['r', 'b', 'c'] #use red, blue and cyan\n",
    "\n",
    "plt.figure()\n",
    "all_dyes.plot(xlim=[200,800], title='zID', color=colours) # UPDATE xlim and title that includes your z-id\n",
    "plt.xlabel('This is the x-axis label')  # UPDATE to provide an appropriate x-axis label\n",
    "plt.ylabel('This is the y-axis label')  # UPDATE to provide an appropriate y-axis label\n",
    "\n",
    "# Save the figure:\n",
    "plt.savefig('Dyes_absorption.png', dpi=150)"
   ]
  },
  {
   "cell_type": "markdown",
   "metadata": {},
   "source": [
    "The figure should appear in the file tree - **save it to your computer to upload to the Moodle quiz.**"
   ]
  },
  {
   "cell_type": "markdown",
   "metadata": {},
   "source": [
    "## Analysis\n",
    "First let's create a [dictionary](https://docs.python.org/3/tutorial/datastructures.html#dictionaries) for each dye so we can use these values later:"
   ]
  },
  {
   "cell_type": "code",
   "execution_count": null,
   "metadata": {},
   "outputs": [],
   "source": [
    "dyeA = {}\n",
    "dyeB = {}\n",
    "dyeC = {}\n",
    "dye_list = [dyeA, dyeB, dyeC]"
   ]
  },
  {
   "cell_type": "markdown",
   "metadata": {},
   "source": [
    "Next determine the wavelengths of the maximum absorbance of the longest-wavelength peak $\\lambda_{max}$ and maximum absorbance $A_{max}$. Pandas can quickly determine the [maximum](https://pandas.pydata.org/pandas-docs/stable/reference/api/pandas.DataFrame.max.html?highlight=max#pandas.DataFrame.max) value and its wavelength.\n",
    "Using Python ['for' loops](https://wiki.python.org/moin/ForLoop) this information can quickly be assigned to the dictionaries for each dye:"
   ]
  },
  {
   "cell_type": "code",
   "execution_count": null,
   "metadata": {},
   "outputs": [],
   "source": [
    "for i,dye in enumerate(all_dyes):                             # loop over each dye\n",
    "    dye_list[i]['Max Wavelength'] = all_dyes[dye].idxmax()    # Index of maximum value i.e. wavelength \n",
    "    dye_list[i]['Max Absorbance'] = all_dyes[dye].max()       # Maximum value i.e. absorbance\n",
    "    dye_list[i]['Concentration'] = 1                          # We'll change this later\n",
    "\n",
    "dyeA, dyeB, dyeC"
   ]
  },
  {
   "cell_type": "markdown",
   "metadata": {},
   "source": [
    "Who noticed that the wavelength max for Dye C isn't where we expected? The noise at the start of the data has a larger absorbance (not a sign of a good spectroscopist!) than the signal, so limit the range over which the maximum is searched to 400 nm upwards:\n",
    "\n",
    "https://pandas.pydata.org/pandas-docs/stable/user_guide/indexing.html#slicing-ranges"
   ]
  },
  {
   "cell_type": "code",
   "execution_count": null,
   "metadata": {},
   "outputs": [],
   "source": [
    "all_dyes['Dye C'][400:].idxmax(), all_dyes['Dye C'][400:].max() #slicing the data from 400 nm onwards i.e. [400:]"
   ]
  },
  {
   "cell_type": "markdown",
   "metadata": {},
   "source": [
    "That's more like it! Now let's add that and the actual dye concentrations to the dictionary:"
   ]
  },
  {
   "cell_type": "code",
   "execution_count": null,
   "metadata": {},
   "outputs": [],
   "source": [
    "dyeC['Max Wavelength'] = all_dyes['Dye C'][400:].idxmax()\n",
    "dyeC['Max Absorbance'] = all_dyes['Dye C'][400:].max()\n",
    "\n",
    "dyeA['Concentration'] =             # UPDATE\n",
    "dyeB['Concentration'] =             # UPDATE\n",
    "dyeC['Concentration'] =             # UPDATE\n",
    "\n",
    "dyeA, dyeB, dyeC"
   ]
  },
  {
   "cell_type": "markdown",
   "metadata": {},
   "source": [
    "## Calculations\n",
    "\n",
    "### Applying the particle-in-a-box model to estimate $L$\n",
    "Beer's law relates the absorbance $A$ to $c$ the concentration (mol L$^{–1}$) of the absorbing species, $l$ the pathlength of the cuvette in cm and ε the molar absorption coefficient (the conventional units of ε are L mol$^{–1}$ cm$^{–1}$): \n",
    "\n",
    "$$A = ε c l$$\n",
    "\n",
    "For each dye use Beer's law to calculate the molar absorption coefficient at $\\lambda_{max}$:"
   ]
  },
  {
   "cell_type": "code",
   "execution_count": null,
   "metadata": {},
   "outputs": [],
   "source": [
    "l = 1 #pathlength\n",
    "\n",
    "for dye in dye_list:\n",
    "    A = dye['Max Absorbance']\n",
    "    c = dye['Concentration']\n",
    "    \n",
    "    ### UPDATE\n",
    "    molar_abs_coef =         # What is the formula to determine molar absorption coefficient?\n",
    "    \n",
    "    dye['Molar absorption coefficient'] = molar_abs_coef\n",
    "    \n",
    "    print('ε:', molar_abs_coef)"
   ]
  },
  {
   "cell_type": "markdown",
   "metadata": {},
   "source": [
    "Calculate the frequency of light absorbed at $\\lambda_{max}$ from $c = \\nu \\lambda$, then calculate $\\Delta E$ from $\\nu$ using the Planck equation $\\Delta E = h \\nu$.\n",
    "\n",
    "[Scipy](https://docs.scipy.org/doc/scipy/reference/constants.html) has scientific constants ready to use so let's import them!"
   ]
  },
  {
   "cell_type": "code",
   "execution_count": null,
   "metadata": {},
   "outputs": [],
   "source": [
    "from scipy import constants\n",
    "\n",
    "for dye in dye_list:\n",
    "    dye['Frequency'] = constants.c/(dye['Max Wavelength']*1e-9)\n",
    "    \n",
    "    ### UPDATE\n",
    "    dye['dEnergy'] =\n",
    "    \n",
    "    print('Frequency: ', dye['Frequency'], '\\nEnergy change: ', dye['dEnergy'])\n",
    "    print(\"---\")"
   ]
  },
  {
   "cell_type": "markdown",
   "metadata": {},
   "source": [
    "Write down the number of carbon atoms in the N-C-...-C-N chain ($p$), and the number of $\\pi$ electrons ($N = p + 3$):"
   ]
  },
  {
   "cell_type": "code",
   "execution_count": null,
   "metadata": {},
   "outputs": [],
   "source": [
    "# Carbon atoms:\n",
    "dyeA['p'] = \n",
    "dyeB['p'] = \n",
    "dyeC['p'] = "
   ]
  },
  {
   "cell_type": "code",
   "execution_count": null,
   "metadata": {},
   "outputs": [],
   "source": [
    "# pi electrons:\n",
    "dyeA['N'] = \n",
    "dyeB['N'] = \n",
    "dyeC['N'] = "
   ]
  },
  {
   "cell_type": "markdown",
   "metadata": {},
   "source": [
    "Calculate the constant C:"
   ]
  },
  {
   "cell_type": "code",
   "execution_count": null,
   "metadata": {},
   "outputs": [],
   "source": [
    "C = constants.h**2/(8*constants.m_e)"
   ]
  },
  {
   "cell_type": "markdown",
   "metadata": {},
   "source": [
    "Use equation 2 to calculate $L$, the length over which the $\\pi$ electrons are delocalised according to the particle-in-a-box model used here.\n",
    "$$\n",
    "\\Delta E = \\frac{C}{L^2}(n_2^2 − n_1^2) \\\\\n",
    "\\frac{C}{L^2}\\left (\\left (\\frac{N}{2}+1 \\right )^2 - \\left (\\frac{N}{2}\\right )^2\\right ) \\\\\n",
    "= \\frac{C}{L^2}(N+1)\n",
    "$$"
   ]
  },
  {
   "cell_type": "code",
   "execution_count": null,
   "metadata": {},
   "outputs": [],
   "source": [
    "for dye in dye_list:\n",
    "    dye['L'] = np.sqrt(C*(dye['N']+1)/dye['dEnergy']) # Do you understand this?\n",
    "    \n",
    "    print(dye['L']*1e9, ' nm')"
   ]
  },
  {
   "cell_type": "markdown",
   "metadata": {},
   "source": [
    "Tabulate all the data:"
   ]
  },
  {
   "cell_type": "code",
   "execution_count": null,
   "metadata": {},
   "outputs": [],
   "source": [
    "final_table = pd.DataFrame.from_dict([dyeA, dyeB, dyeC])\n",
    "final_table.index = ['Dye A', 'Dye B', 'Dye C']\n",
    "final_table.style.format(\"{:.3g}\")"
   ]
  },
  {
   "cell_type": "markdown",
   "metadata": {},
   "source": [
    "---\n",
    "How well can the particle-in-a-box method predict the absorbance from the molecular geometry length?"
   ]
  },
  {
   "cell_type": "code",
   "execution_count": null,
   "metadata": {},
   "outputs": [],
   "source": [
    "# First add the L calculated using the geometric approach\n",
    "# Use scientific notation i.e. 1 nm is 1e-9\n",
    "dyeA['Lgeom'] = \n",
    "dyeB['Lgeom'] = \n",
    "dyeC['Lgeom'] = "
   ]
  },
  {
   "cell_type": "code",
   "execution_count": null,
   "metadata": {},
   "outputs": [],
   "source": [
    "# Calculate the predicted absorbance\n",
    "for dye in dye_list:\n",
    "    dye['dE_geom'] =       #UPDATE\n",
    "    dye['wavelength'] =    #UPDATE"
   ]
  },
  {
   "cell_type": "markdown",
   "metadata": {},
   "source": [
    "Retabulate all the data:"
   ]
  },
  {
   "cell_type": "code",
   "execution_count": null,
   "metadata": {},
   "outputs": [],
   "source": [
    "final_table = pd.DataFrame.from_dict([dyeA, dyeB, dyeC])\n",
    "final_table.index = ['Dye A', 'Dye B', 'Dye C']\n",
    "final_table.style.format(\"{:.3g}\")"
   ]
  },
  {
   "cell_type": "markdown",
   "metadata": {},
   "source": [
    "Plot the predicted absorbance using the geometric *L* against the observed max wavelength:"
   ]
  },
  {
   "cell_type": "code",
   "execution_count": null,
   "metadata": {},
   "outputs": [],
   "source": [
    "fig = plt.figure()\n",
    "y = final_table['wavelength']*1e9\n",
    "\n",
    "plt.plot(y, final_table['Max Wavelength'], 'o')\n",
    "\n",
    "plt.xlabel('XLABEL') #UPDATE\n",
    "plt.ylabel('YLABEL') #UPDATE\n",
    "plt.title('zID')     #UPDATE\n",
    "plt.show()\n",
    "\n",
    "fig.savefig('zID_2.png', dpi=150)  # Save the figure"
   ]
  },
  {
   "cell_type": "markdown",
   "metadata": {},
   "source": [
    "Check your data makes sense. Save your work (and download the notebook file for if you need it again)."
   ]
  }
 ],
 "metadata": {
  "anaconda-cloud": {},
  "kernelspec": {
   "display_name": "Python 3",
   "language": "python",
   "name": "python3"
  },
  "language_info": {
   "codemirror_mode": {
    "name": "ipython",
    "version": 3
   },
   "file_extension": ".py",
   "mimetype": "text/x-python",
   "name": "python",
   "nbconvert_exporter": "python",
   "pygments_lexer": "ipython3",
   "version": "3.7.6"
  }
 },
 "nbformat": 4,
 "nbformat_minor": 4
}
