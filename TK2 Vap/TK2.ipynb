{
 "cells": [
  {
   "cell_type": "markdown",
   "metadata": {},
   "source": [
    "# TK2 Vapour pressure\n",
    "\n",
    "For this experiment you will need to watch the video and record your own data points. Fill in your observed values for the following parameters: `tempC` (temperature in degrees Celcius), `p_upper` and `p_lower` (pressure readings in mmHg)\n",
    "\n",
    "*For the best data take your readings just after stirring and between 5-24°C*"
   ]
  },
  {
   "cell_type": "code",
   "execution_count": null,
   "metadata": {},
   "outputs": [],
   "source": [
    "import numpy as np \n",
    "import matplotlib.pyplot as plt\n",
    "import scipy.optimize as opt \n",
    "import scipy.constants as const\n",
    "\n",
    "plt.style.use('seaborn-whitegrid')\n",
    "%matplotlib inline"
   ]
  },
  {
   "cell_type": "code",
   "execution_count": null,
   "metadata": {},
   "outputs": [],
   "source": [
    "tempC = np.array([],dtype=np.float64) \n",
    "p_upper = np.array([],dtype=np.float64)\n",
    "p_lower = np.array([],dtype=np.float64)"
   ]
  },
  {
   "cell_type": "markdown",
   "metadata": {},
   "source": [
    "## Analysis\n",
    "Plot your data in accordance with the Clausius-Clapeyron equation."
   ]
  },
  {
   "cell_type": "code",
   "execution_count": null,
   "metadata": {},
   "outputs": [],
   "source": [
    "tempK = \n",
    "invT = \n",
    "\n",
    "pdiff = \n",
    "lnp = "
   ]
  },
  {
   "cell_type": "code",
   "execution_count": null,
   "metadata": {},
   "outputs": [],
   "source": [
    "### Uncertainty\n"
   ]
  },
  {
   "cell_type": "code",
   "execution_count": null,
   "metadata": {},
   "outputs": [],
   "source": [
    "### Plot\n"
   ]
  },
  {
   "cell_type": "markdown",
   "metadata": {},
   "source": [
    "Use the graph to determine the enthalpy of vaporisation, $\\Delta H_{vap}$, for dichloromethane and its uncertainty."
   ]
  },
  {
   "cell_type": "code",
   "execution_count": null,
   "metadata": {},
   "outputs": [],
   "source": [
    "enthalpy =          # Complete\n",
    "H_uncertainty =     # Complete\n",
    "\n",
    "print('Enthalpy of vaporisation is','%i' % enthalpy, '+/-', '%i' % H_uncertainty,'UNITS')"
   ]
  },
  {
   "cell_type": "markdown",
   "metadata": {},
   "source": [
    "Determine $\\Delta S°_{vap}$ and its uncertainty."
   ]
  },
  {
   "cell_type": "code",
   "execution_count": null,
   "metadata": {},
   "outputs": [],
   "source": [
    "entropy =           # Complete\n",
    "S_uncertainty =     # Complete\n",
    "\n",
    "print('Standard entropy of vaporisation is','%0.1f' % entropy, '+/-', '%0.1f' % S_uncertainty,'UNITS')"
   ]
  },
  {
   "cell_type": "markdown",
   "metadata": {},
   "source": [
    "Use the Clausius Clapeyron equation and your values of $∆H_{vap}$ and $∆S°_{vap}$ to calculate the normal boiling point of dichloromethane and its uncertainty. *As a lower limit the relative uncertainty in the normal boiling point (in K) can be taken to equal the relative uncertainty in the slope of the graph.*"
   ]
  },
  {
   "cell_type": "code",
   "execution_count": null,
   "metadata": {},
   "outputs": [],
   "source": [
    "bp =                 # Complete\n",
    "bp_uncertainty =     # Complete\n",
    "\n",
    "print('Normal boiling point is','%i' % bp, '+/-', '%i' % bp_uncertainty,'UNITS')"
   ]
  }
 ],
 "metadata": {
  "kernelspec": {
   "display_name": "Python 3",
   "language": "python",
   "name": "python3"
  },
  "language_info": {
   "codemirror_mode": {
    "name": "ipython",
    "version": 3
   },
   "file_extension": ".py",
   "mimetype": "text/x-python",
   "name": "python",
   "nbconvert_exporter": "python",
   "pygments_lexer": "ipython3",
   "version": "3.7.6"
  }
 },
 "nbformat": 4,
 "nbformat_minor": 4
}
