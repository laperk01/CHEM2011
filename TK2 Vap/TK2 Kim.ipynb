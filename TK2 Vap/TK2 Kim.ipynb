{
 "cells": [
  {
   "cell_type": "markdown",
   "metadata": {},
   "source": [
    "# TK2 Vapour pressure\n",
    "\n",
    "For this experiment you will need to watch the video and record your own data points. Fill in your observed values for the following parameters: `tempC` (temperature in degrees Celcius), `p_upper` and `p_lower` (pressure readings in mmHg)\n",
    "\n",
    "*For the best data take your readings just after stirring and between 5-24°C*"
   ]
  },
  {
   "cell_type": "code",
   "execution_count": 1,
   "metadata": {},
   "outputs": [],
   "source": [
    "import numpy as np \n",
    "import matplotlib.pyplot as plt\n",
    "import scipy.optimize as opt \n",
    "import scipy.constants as const\n",
    "\n",
    "plt.style.use('seaborn-whitegrid')\n",
    "%matplotlib inline"
   ]
  },
  {
   "cell_type": "code",
   "execution_count": null,
   "metadata": {},
   "outputs": [],
   "source": [
    "tempC = np.array([],dtype=np.float64) \n",
    "p_upper = np.array([],dtype=np.float64)\n",
    "p_lower = np.array([],dtype=np.float64)"
   ]
  },
  {
   "cell_type": "code",
   "execution_count": 2,
   "metadata": {},
   "outputs": [],
   "source": [
    "tempC = np.array([-3.9, 1.1,1.2,3.8,6,8.9,11.5,13.6,16.1,18.3,20.3,23.8,24.7],dtype=np.float64) \n",
    "p_diff = np.array([125,129,137,155,183,213,238,261,290,316,345,394,401],dtype=np.float64)"
   ]
  },
  {
   "cell_type": "markdown",
   "metadata": {},
   "source": [
    "## Analysis\n",
    "Plot your data in accordance with the Clausius-Clapeyron equation."
   ]
  },
  {
   "cell_type": "code",
   "execution_count": 3,
   "metadata": {},
   "outputs": [],
   "source": [
    "# Leave blank? None at all?\n",
    "tempK = tempC + 273.15\n",
    "invT = 1/tempK[4:-1]\n",
    "lnp = np.log(p_diff[4:-1])"
   ]
  },
  {
   "cell_type": "code",
   "execution_count": 4,
   "metadata": {},
   "outputs": [],
   "source": [
    "def line(x, m, b):\n",
    "     return m*x + b"
   ]
  },
  {
   "cell_type": "code",
   "execution_count": 9,
   "metadata": {},
   "outputs": [],
   "source": [
    "# Uncertainty\n",
    "optP, pcov = opt.curve_fit(line, x, y) # Replace x and y with your variable names"
   ]
  },
  {
   "cell_type": "code",
   "execution_count": 18,
   "metadata": {},
   "outputs": [
    {
     "data": {
      "image/png": "[encoded data removed]",
      "text/plain": [
       "<Figure size 576x432 with 1 Axes>"
      ]
     },
     "metadata": {
      "needs_background": "light"
     },
     "output_type": "display_data"
    }
   ],
   "source": [
    "### Plot - leave blank (or partially)\n",
    "fig = plt.figure(figsize=(8,6))\n",
    "\n",
    "plt.plot(invT, lnp, 'ro', label='data')\n",
    "plt.plot(invT, line(invT, optP[0], optP[1]), label='fit')\n",
    "\n",
    "plt.xlabel('1/T', size=14)\n",
    "plt.ylabel('ln p', size=14)\n",
    "plt.title('TITLE . zIDXXXXX', size=14)\n",
    "plt.legend()\n",
    "plt.show()"
   ]
  },
  {
   "cell_type": "markdown",
   "metadata": {},
   "source": [
    "Use the graph to determine the enthalpy of vaporisation, $\\Delta H_{vap}$, for dichloromethane and its uncertainty."
   ]
  },
  {
   "cell_type": "code",
   "execution_count": 27,
   "metadata": {},
   "outputs": [
    {
     "name": "stdout",
     "output_type": "stream",
     "text": [
      "Enthalpy of vaporisation is 425 +/- 82 J/mol.\n"
     ]
    }
   ],
   "source": [
    "enthalpy =          # Complete\n",
    "H_uncertainty =     # Complete\n",
    "\n",
    "print('Enthalpy of vaporisation is','%i' % enthalpy, '+/-', '%i' % H_uncertainty,'UNITS')"
   ]
  },
  {
   "cell_type": "code",
   "execution_count": 30,
   "metadata": {},
   "outputs": [
    {
     "name": "stdout",
     "output_type": "stream",
     "text": [
      "Enthalpy of vaporisation is 29449 +/- 82 UNITS\n"
     ]
    }
   ],
   "source": [
    "### REMOVE\n",
    "enthalpy = -optP[0]*const.R\n",
    "H_uncertainty = 2*pcov[0][0]**0.5\n",
    "\n",
    "print('Enthalpy of vaporisation is','%i' % enthalpy, '+/-', '%i' % H_uncertainty,'UNITS')"
   ]
  },
  {
   "cell_type": "markdown",
   "metadata": {},
   "source": [
    "Determine $\\Delta S°_{vap}$ and its uncertainty."
   ]
  },
  {
   "cell_type": "code",
   "execution_count": null,
   "metadata": {},
   "outputs": [],
   "source": [
    "entropy =          # Complete\n",
    "S_uncertainty =     # Complete\n",
    "\n",
    "print('Standard entropy of vaporisation is','%0.1f' % entropy, '+/-', '%0.1f' % S_uncertainty,'UNITS')"
   ]
  },
  {
   "cell_type": "code",
   "execution_count": 31,
   "metadata": {},
   "outputs": [
    {
     "name": "stdout",
     "output_type": "stream",
     "text": [
      "Standard entropy of vaporisation is 148.9 +/- 0.3 UNITS\n"
     ]
    }
   ],
   "source": [
    "entropy = optP[1]*const.R         # Complete\n",
    "S_uncertainty = 2*pcov[1][1]**0.5    # Complete\n",
    "\n",
    "print('Standard entropy of vaporisation is','%0.1f' % entropy, '+/-', '%0.1f' % S_uncertainty,'UNITS')"
   ]
  },
  {
   "cell_type": "markdown",
   "metadata": {},
   "source": [
    "Use the Clausius Clapeyron equation and your values of $∆H_{vap}$ and $∆S°_{vap}$ to calculate the normal boiling point of dichloromethane. Estimate also the uncertainty in the normal boiling point. *As a lower limit the relative uncertainty in the normal boiling point (in K) can be taken to equal the relative uncertainty in the slope of the graph.*"
   ]
  },
  {
   "cell_type": "code",
   "execution_count": null,
   "metadata": {},
   "outputs": [],
   "source": []
  }
 ],
 "metadata": {
  "kernelspec": {
   "display_name": "Python 3",
   "language": "python",
   "name": "python3"
  },
  "language_info": {
   "codemirror_mode": {
    "name": "ipython",
    "version": 3
   },
   "file_extension": ".py",
   "mimetype": "text/x-python",
   "name": "python",
   "nbconvert_exporter": "python",
   "pygments_lexer": "ipython3",
   "version": "3.7.6"
  }
 },
 "nbformat": 4,
 "nbformat_minor": 4
}
