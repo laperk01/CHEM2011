{
 "cells": [
  {
   "cell_type": "markdown",
   "metadata": {},
   "source": [
    "# QS3 Electronic absorption spectrum of I$_2$\n",
    "\n",
    "## Importing data\n",
    "Download your data from Moodle and import it as well as the necessary libraries:"
   ]
  },
  {
   "cell_type": "code",
   "execution_count": null,
   "metadata": {},
   "outputs": [],
   "source": [
    "import pandas as pd\n",
    "import matplotlib.pyplot as plt\n",
    "import scipy.signal as sg\n",
    "import scipy.optimize as opt \n",
    "import numpy as np\n",
    "\n",
    "%matplotlib inline\n",
    "plt.style.use('seaborn-whitegrid')\n",
    "\n",
    "# Import data\n",
    "data_A = pd.read_csv('A.csv',skiprows=1,nrows=1001)\n",
    "data_B = pd.read_csv('B.csv',skiprows=1,nrows=1001)\n",
    "data_C = pd.read_csv('C.csv',skiprows=1,nrows=1001)\n",
    "data_D = pd.read_csv('D.csv',skiprows=1,nrows=1001)\n",
    "data_E = pd.read_csv('E.csv', skiprows=1, nrows=10001)"
   ]
  },
  {
   "cell_type": "markdown",
   "metadata": {},
   "source": [
    "Check your data has imported correctly:"
   ]
  },
  {
   "cell_type": "code",
   "execution_count": null,
   "metadata": {},
   "outputs": [],
   "source": [
    "data_E"
   ]
  },
  {
   "cell_type": "markdown",
   "metadata": {},
   "source": [
    "Plot the experimental spectra, `A.csv, B.csv, C.csv, D.csv` and `E.csv`. Inspect the metadata at the tail of the files and adjust the code such that the slit bandwidth is indicated in the plot legend."
   ]
  },
  {
   "cell_type": "code",
   "execution_count": null,
   "metadata": {},
   "outputs": [],
   "source": [
    "# Plot data\n",
    "x_A = data_A['Wavelength (nm)']\n",
    "y_A = data_A['Abs']\n",
    "x_B = \n",
    "y_B = \n",
    "x_C = \n",
    "y_C = \n",
    "x_D = \n",
    "y_D = \n",
    "x_E = \n",
    "y_E =\n",
    "\n",
    "fig = plt.figure(figsize=(16,6))\n",
    "plt.plot(x_A,y_A,label='SBW = XX nm') #update\n",
    "plt.plot(x_B,y_B,label='SBW = XX nm') #update\n",
    "plt.plot(x_C,y_C,label='SBW = XX nm') #update\n",
    "plt.plot(x_D,y_D,label='SBW = XX nm') #update\n",
    "plt.plot(x_E,y_E,label='SBW = XX nm') #update\n",
    "\n",
    "xmin = 500\n",
    "xmax = 620 \n",
    "\n",
    "plt.xlabel('Wavelength (nm)', size=16)\n",
    "plt.ylabel('Absorbance',size=16)\n",
    "plt.title(\"Absorption Spectra of I$_2$\", size=16)\n",
    "plt.xlim(xmin,xmax)\n",
    "plt.ylim(0,0.3)\n",
    "plt.legend()\n",
    "plt.show()"
   ]
  },
  {
   "cell_type": "markdown",
   "metadata": {},
   "source": [
    "## Choose a Dataset and Pick the Peaks\n",
    "\n",
    "Select the highest resolution spectrum for further analysis *(choose the dataset A, B, C, D or E)*."
   ]
  },
  {
   "cell_type": "code",
   "execution_count": null,
   "metadata": {},
   "outputs": [],
   "source": [
    "x = x_\n",
    "y = y_"
   ]
  },
  {
   "cell_type": "markdown",
   "metadata": {},
   "source": [
    "Use the code below to pick the peak positions by adjusting the prominence and distance parameters within the [find_peaks](https://docs.scipy.org/doc/scipy/reference/generated/scipy.signal.find_peaks.html) function. Make sure that as many peaks have been picked as possible. Extra peaks or false peaks do not matter at this stage."
   ]
  },
  {
   "cell_type": "code",
   "execution_count": null,
   "metadata": {},
   "outputs": [],
   "source": [
    "peaks = sg.find_peaks(y,prominence=None, distance=None) # Adjust the parameters\n",
    "\n",
    "fig = plt.figure(figsize=(16,6))\n",
    "plt.plot(x[peaks[0]],y[peaks[0]],\"ro\")\n",
    "plt.plot(x,y)\n",
    "xmin = 500\n",
    "xmax = 650\n",
    "ymin = 0.0\n",
    "ymax = 0.2\n",
    "plt.xlim(xmin,xmax)\n",
    "plt.ylim(ymin,ymax)\n",
    "\n",
    "# Labelling the picked peaks\n",
    "for i in range(len(peaks[0])):\n",
    "    if x[peaks[0][i]] > xmin and x[peaks[0][i]] < xmax:\n",
    "        stri = '({})'.format(i)\n",
    "        plt.text(x[peaks[0][i]],y[peaks[0][i]]+0.005,stri,rotation=90)\n",
    "\n",
    "plt.xlabel('Wavelength (nm)', size=16)\n",
    "plt.ylabel('Absorbance',size=16)\n",
    "plt.title(\"Picked Peaks\", size=16)\n",
    "plt.show()"
   ]
  },
  {
   "cell_type": "markdown",
   "metadata": {},
   "source": [
    "Figure 4 in the instructions details the region where the three progressions overlap. Ensure that as many peaks as possible have been picked in this region. Each peak will now have an **index** which you will use below to assign the peaks to progressions.\n",
    "\n",
    "> **Do not continue until you have as many of the clear peaks picked as possible.**\n",
    "\n",
    "---\n",
    "\n",
    "## Analysis of the main progression\n",
    "\n",
    "With the aid of Figures 2 and 4 in the instructions, **identify the bands which belong to the $v'' = 0$ (i.e. main) progression.** Note the smooth variation of intensity for the bands within each progression. You can use this as an aid in assigning features to particular progressions. \n",
    "\n",
    "Next you will **assign the picked peaks for the main progression** $v'' = 0$. You will do this by listing the indices of the peaks in the array `s0`. \n",
    "\n",
    "*For example, the peaks above with indices 141 and 140 have been added to the array. In the plot below they have been labelled (almost certainly incorrectly) as 6-0 and 5-0 respectively, with their wavelength.*\n",
    "\n",
    "Take care in the region 550 – 580 nm in which the intensity of members of the main ($v'\\leftarrow0$) progression may be weaker than members of the $v'\\leftarrow0$ progression. Use Figure 4 to help you identify the main progression bands in this region. **Assign upper-state quantum numbers** $v'$ to the bands in this progression using the literature data in Table 2 (in instructions) for assistance. These data are provided as a guide only, and may differ slightly from your measurements. **Adjust the `offset`** in the code so that the correct assignments appear in parentheses above the peaks. \n",
    "\n",
    "> **Your data must, as a minimum, include bands for $v' = 18$ through to $v' = 45$. If necessary, pick additional peaks.**"
   ]
  },
  {
   "cell_type": "code",
   "execution_count": null,
   "metadata": {},
   "outputs": [],
   "source": [
    "fig= plt.figure(figsize=(16,6))\n",
    "\n",
    "#plt.plot(x[peaks[0]],y[peaks[0]],\"ro\")\n",
    "plt.plot(x,y)\n",
    "\n",
    "xmin = 500\n",
    "xmax = 650\n",
    "ymin = 0.00\n",
    "ymax= 0.24\n",
    "plt.xlim(xmin,xmax)\n",
    "plt.ylim(ymin,ymax)\n",
    "\n",
    "######### Choose the indices of the peaks associated with the main progression associated with v\"=0\n",
    "s0 = [140,141]     # Complete the list of indices\n",
    "offset0 = 5        # Update the offset to assign the upper quantum number\n",
    "#########\n",
    "\n",
    "s0_x = []\n",
    "s0_y = []\n",
    "v0 = []\n",
    "\n",
    "for i in range(len(s0)):\n",
    "    s0_x.append(x[peaks[0][s0[i]]])\n",
    "    s0_y.append(y[peaks[0][s0[i]]])\n",
    "    v0.append(i + offset0) \n",
    "    stri = '({}-0)  {:.5}'.format(v0[i],s0_x[i])\n",
    "    plt.text(s0_x[i],s0_y[i]+0.005,stri,rotation=90,color='g')\n",
    "    \n",
    "plt.plot(s0_x,s0_y,'go',label= 'v\\\"=0 progression')\n",
    "plt.xlabel('wavelength (nm)', size=16)\n",
    "plt.ylabel('absorbance',size=16)\n",
    "plt.legend()\n",
    "plt.show()"
   ]
  },
  {
   "cell_type": "markdown",
   "metadata": {},
   "source": [
    "Convert the picked wavelengths (nm) to wavenumber (cm$^{-1}$) and store in the array 'energy'. Create arrays 'vp' and 'vpp' (vee-prime $v'$ and vee-double-prime, $v''$). A plot of the wavenumber of the members of the main progression against $x = v' + 0.5$ will be close to a parabola. Fit this with a quadratic curve and determine estimates for $\\omega_e'$, $\\omega_ex_e'$ and $\\bar{\\nu}_L$."
   ]
  },
  {
   "cell_type": "code",
   "execution_count": null,
   "metadata": {},
   "outputs": [],
   "source": [
    "energy = np.array([],dtype=np.float64)\n",
    "vp = np.array([],dtype=np.float64)\n",
    "vpp = np.array([],dtype=np.int64)\n",
    "\n",
    "for i in range(len(v0)):\n",
    "    energy = np.append(energy,1e7/s0_x[i]) ## this is the array of wavenumbers of transitions\n",
    "    vp = np.append(vp,v0[i]) ## this is the array of v'\n",
    "    vpp = np.append(vpp,0) ## this is the array of v\"\n",
    "   \n",
    "plt.plot(vp + 0.5,energy,'ro',label='v\\\"=0')\n",
    "plt.xlabel('$v\\' + 1/2$',size=16)\n",
    "plt.ylabel('wavenumber (cm$^{-1}$)',size=16)\n",
    "plt.legend()\n",
    "plt.show()"
   ]
  },
  {
   "cell_type": "code",
   "execution_count": null,
   "metadata": {},
   "outputs": [],
   "source": [
    "##fit a quadratic\n",
    "def func(x,a,b,c):\n",
    "    return a*x**2 + b*x + c\n",
    "\n",
    "optP, pcov = opt.curve_fit(func, vp+0.5, energy)\n",
    "\n",
    "plt.plot(vp+0.5,energy,'ro',label='v\\\"=0')\n",
    "plt.plot(vp+0.5,func(vp+0.5,*optP))\n",
    "plt.xlabel('$v\\' + 1/2$',size=16)\n",
    "plt.ylabel('wavenumber (cm$^{-1}$)',size=16)\n",
    "plt.legend()\n",
    "plt.show()"
   ]
  },
  {
   "cell_type": "code",
   "execution_count": null,
   "metadata": {},
   "outputs": [],
   "source": [
    "print('we\\' = ',optP[],'+/-',2*pcov[][]**0.5,'cm-1') #adjust indices\n",
    "print('wexe\\' = ',optP[],'+/-',2*pcov[][]**0.5,'cm-1') #adjust indices\n",
    "vmax = -optP[]/2/optP[]-0.5 #adjust indices\n",
    "print('maximum v =', vmax) \n",
    "print('nu_L =',func(vmax+0.5,*optP), 'cm-1') #adjust indices"
   ]
  },
  {
   "cell_type": "markdown",
   "metadata": {},
   "source": [
    "---\n",
    "### ASSIGN OTHER PROGRESSIONS\n",
    "Assign the peaks in the $v''=1$ and $v''=2$ progressions analogously to $v''=0$. Use the incomplete code below."
   ]
  },
  {
   "cell_type": "code",
   "execution_count": null,
   "metadata": {},
   "outputs": [],
   "source": [
    "fig= plt.figure(figsize=(16,6))\n",
    "\n",
    "plt.plot(x,y)\n",
    "plt.plot(s0_x,s0_y,'go',label= 'v\\\"=0 progression')\n",
    "for i in range(len(s0)):\n",
    "    stri = '({}-0)  {:.5}'.format(v0[i],s0_x[i])\n",
    "    plt.text(s0_x[i],s0_y[i]+0.005,stri,rotation=90,color='g')\n",
    "\n",
    "\n",
    "xmin = 500\n",
    "xmax = 650\n",
    "ymin = 0.00\n",
    "ymax= 0.24\n",
    "plt.xlim(xmin,xmax)\n",
    "plt.ylim(ymin,ymax)\n",
    "\n",
    "\n",
    "######### Choose the indices of the peaks associated with the main progression associated with v\"=1\n",
    "s1 = []     # Complete the list of indices\n",
    "offset1 =         # Update the offset to assign the upper quantum number\n",
    "#########\n",
    "\n",
    "s1_x = []\n",
    "s1_y = []\n",
    "v1 = []\n",
    "\n",
    "for i in range(len(s1)):\n",
    "    s1_x.append(x[peaks[0][s1[i]]])\n",
    "    s1_y.append(y[peaks[0][s1[i]]])\n",
    "    v1.append(i + offset1)\n",
    "    stri = '({}-1)  {:.5}'.format(v1[i],s1_x[i]) \n",
    "    plt.text(s1_x[i],s1_y[i]+0.005,stri,rotation=90,color='b')\n",
    "    \n",
    "plt.plot(s1_x,s1_y,'bo',label= 'v\\\"=1 progression')\n",
    "\n",
    "######### Choose the indices of the peaks associated with the main progression associated with v\"=1\n",
    "s2 = []\n",
    "offset2 = 8 # Update the offset to assign the upper quantum number\n",
    "#########\n",
    "\n",
    "s2_x = []\n",
    "s2_y = []\n",
    "v2 = []\n",
    "\n",
    "for i in range(len(s2)):\n",
    "    s2_x.append(x[peaks[0][s2[i]]])\n",
    "    s2_y.append(y[peaks[0][s2[i]]])\n",
    "    v2.append(i + offset2)\n",
    "    stri = '({}-2)  {:.5}'.format(v2[i],s2_x[i]) \n",
    "    plt.text(s2_x[i],s2_y[i]+0.005,stri,rotation=90,color='r')\n",
    "    \n",
    "plt.plot(s2_x,s2_y,'ro',label= 'v\\\"=2 progression')\n",
    "\n",
    "plt.xlabel('x-label', size=16)\n",
    "plt.ylabel('y-label',size=16)\n",
    "plt.legend()\n",
    "plt.figtext(0.5,0.01,'Figure 1. Write a description using a few sentences.',size=16,ha='center')\n",
    "plt.savefig('I2_absorption.png', dpi=150)\n",
    "plt.show()\n"
   ]
  },
  {
   "cell_type": "markdown",
   "metadata": {},
   "source": [
    "Append the arrays `energy`, `vp` and `vpp` with the new data and plot the progressions on the same graph. Ensure that each progression makes a smooth curve. "
   ]
  },
  {
   "cell_type": "code",
   "execution_count": null,
   "metadata": {},
   "outputs": [],
   "source": [
    "energy = np.array([],dtype=np.float64)\n",
    "vp = np.array([],dtype=np.float64)\n",
    "vpp = np.array([],dtype=np.int64)\n",
    "\n",
    "for i in range(len(v0)):\n",
    "    energy = np.append(energy,1e7/s0_x[i]) ## this is the array of wavenumbers of transitions\n",
    "    vp = np.append(vp,v0[i]) ## this is the array of v'\n",
    "    vpp = np.append(vpp,0) ## this is the array of v\"\n",
    "    \n",
    "for i in range(len(v1)):\n",
    "    energy = np.append(energy,1e7/s1_x[i])\n",
    "    vp = np.append(vp,v1[i])\n",
    "    vpp = np.append(vpp,1)\n",
    "    \n",
    "for i in range(len(v2)):\n",
    "    energy = np.append(energy,1e7/s2_x[i])\n",
    "    vp = np.append(vp,v2[i])\n",
    "    vpp = np.append(vpp,2)\n",
    "\n",
    "plt.plot(vp+0.5,energy,'ro')\n",
    "plt.xlabel('v\\'+1/2',size=16)\n",
    "plt.ylabel('wavenumber (cm$^{-1}$)',size=16)\n",
    "plt.text(50,19300,'$v\\'\\'=0$',size=16) #adjust x and y positions to label the progressions\n",
    "plt.text(30,18000,'$v\\'\\'=1$',size=16) #adjust x and y positions to label the progressions\n",
    "plt.text(15,16500,'$v\\'\\'=2$',size=16) #adjust x and y positions to label the progressions\n",
    "plt.show()"
   ]
  },
  {
   "cell_type": "markdown",
   "metadata": {},
   "source": [
    "Join the arrays `vp` and `vpp` into a $2\\times N$ array `vees`, which contains the upper and lower vibrational state quantum numbers augmented by $1/2$. Globally fit all three progressions by defining a function of the quantum numbers."
   ]
  },
  {
   "cell_type": "code",
   "execution_count": null,
   "metadata": {},
   "outputs": [],
   "source": [
    "vees = [vpp+0.5,vp+0.5]\n",
    "\n",
    "# This is the function we are trying to fit to the data.\n",
    "def func(x, a, b, c, d, e):\n",
    "     return e + a*x[1]**2 + b*x[1] + c*x[0]**2 + d*x[0]\n",
    "\n",
    "optP, pcov = opt.curve_fit(func, vees, energy)\n",
    "\n",
    "plt.plot(vp+0.5,energy,'bo',label='Data')\n",
    "plt.plot(vp+0.5,func(vees,*optP),'r.',label='Fit')\n",
    "\n",
    "plt.xlabel('v\\'+0.5',size=16)\n",
    "plt.ylabel('wavenumber (cm$^{-1}$)',size=16)\n",
    "plt.legend()\n",
    "plt.text(50,19300,'v\\\"=0',size=16)\n",
    "plt.text(30,18000,'v\\\"=1',size=16)\n",
    "plt.text(15,16500,'v\\\"=2',size=16)\n",
    "plt.show()\n",
    "\n",
    "print('a = ',optP[0],'+/-',2*pcov[0][0]**0.5,'cm-1')\n",
    "print('b = ',optP[1],'+/-',2*pcov[1][1]**0.5,'cm-1')\n",
    "print('c = ',optP[2],'+/-',2*pcov[2][2]**0.5,'cm-1')\n",
    "print('d = ',optP[3],'+/-',2*pcov[3][3]**0.5,'cm-1')\n",
    "print('e = ',optP[4],'+/-',2*pcov[4][4]**0.5,'cm-1')"
   ]
  },
  {
   "cell_type": "code",
   "execution_count": null,
   "metadata": {},
   "outputs": [],
   "source": []
  }
 ],
 "metadata": {
  "kernelspec": {
   "display_name": "Python 3",
   "language": "python",
   "name": "python3"
  },
  "language_info": {
   "codemirror_mode": {
    "name": "ipython",
    "version": 3
   },
   "file_extension": ".py",
   "mimetype": "text/x-python",
   "name": "python",
   "nbconvert_exporter": "python",
   "pygments_lexer": "ipython3",
   "version": "3.7.6"
  }
 },
 "nbformat": 4,
 "nbformat_minor": 4
}
